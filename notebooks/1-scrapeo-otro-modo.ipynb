{
 "cells": [
  {
   "cell_type": "code",
   "execution_count": 26,
   "metadata": {},
   "outputs": [],
   "source": [
    "import requests\n",
    "from time import sleep\n",
    "from tqdm import tqdm\n",
    "import os\n",
    "import warnings\n",
    "warnings.filterwarnings('ignore')\n",
    "\n",
    "# Tratamiento de datos\n",
    "# -----------------------------------------------------------------------\n",
    "import pandas as pd\n",
    "import numpy as np\n",
    "\n",
    "# Importar librerías para automatización de navegadores web con Selenium\n",
    "# -----------------------------------------------------------------------\n",
    "from selenium import webdriver  # Selenium es una herramienta para automatizar la interacción con navegadores web.\n",
    "from webdriver_manager.chrome import ChromeDriverManager  # ChromeDriverManager gestiona la instalación del controlador de Chrome.\n",
    "from selenium.webdriver.common.keys import Keys  # Keys es útil para simular eventos de teclado en Selenium.\n",
    "from selenium.webdriver.support.ui import Select  # Select se utiliza para interactuar con elementos <select> en páginas web.\n",
    "from selenium.webdriver.support.ui import WebDriverWait\n",
    "from selenium.webdriver.support import expected_conditions as EC\n",
    "from selenium.common.exceptions import NoSuchElementException # Excepciones comunes de selenium que nos podemos encontrar \n"
   ]
  },
  {
   "cell_type": "code",
   "execution_count": 27,
   "metadata": {},
   "outputs": [],
   "source": [
    "# Librería para el acceso a variables y funciones\n",
    "import sys\n",
    "sys.path.append(\"../\")\n",
    "from src import support_scrap as sf #Archivo .py donde encontraremos todas nuestras funciones."
   ]
  },
  {
   "cell_type": "code",
   "execution_count": 28,
   "metadata": {},
   "outputs": [],
   "source": [
    "pd.set_option('display.max_columns', None) # Parámetro que modifica la visualización de los DFs"
   ]
  },
  {
   "cell_type": "code",
   "execution_count": 29,
   "metadata": {},
   "outputs": [
    {
     "ename": "AttributeError",
     "evalue": "module 'src.support_scrap' has no attribute 'obtener_links_facua'",
     "output_type": "error",
     "traceback": [
      "\u001b[1;31m---------------------------------------------------------------------------\u001b[0m",
      "\u001b[1;31mAttributeError\u001b[0m                            Traceback (most recent call last)",
      "Cell \u001b[1;32mIn[29], line 2\u001b[0m\n\u001b[0;32m      1\u001b[0m url_facua \u001b[38;5;241m=\u001b[39m \u001b[38;5;124m\"\u001b[39m\u001b[38;5;124mhttps://super.facua.org\u001b[39m\u001b[38;5;124m\"\u001b[39m\n\u001b[1;32m----> 2\u001b[0m lista_links \u001b[38;5;241m=\u001b[39m \u001b[43msf\u001b[49m\u001b[38;5;241;43m.\u001b[39;49m\u001b[43mobtener_links_facua\u001b[49m(url_facua)\n",
      "\u001b[1;31mAttributeError\u001b[0m: module 'src.support_scrap' has no attribute 'obtener_links_facua'"
     ]
    }
   ],
   "source": [
    "url_facua = \"https://super.facua.org\"\n",
    "lista_links = sf.obtener_links_facua(url_facua)"
   ]
  },
  {
   "cell_type": "code",
   "execution_count": 12,
   "metadata": {},
   "outputs": [
    {
     "name": "stderr",
     "output_type": "stream",
     "text": [
      "  0%|          | 3/1665 [00:00<05:08,  5.39it/s]"
     ]
    },
    {
     "name": "stdout",
     "output_type": "stream",
     "text": [
      "Error procesando la URL: https://super.facua.org/mercadona/aceite-de-oliva/suave-e-intenso/, motivo: 'NoneType' object has no attribute 'find_all'\n",
      "Error procesando la URL: https://super.facua.org/mercadona/aceite-de-oliva/virgen/, motivo: 'NoneType' object has no attribute 'find_all'\n"
     ]
    },
    {
     "name": "stderr",
     "output_type": "stream",
     "text": [
      "  0%|          | 5/1665 [00:00<05:00,  5.53it/s]"
     ]
    },
    {
     "name": "stdout",
     "output_type": "stream",
     "text": [
      "Error procesando la URL: https://super.facua.org/mercadona/aceite-de-oliva/virgen-extra/, motivo: 'NoneType' object has no attribute 'find_all'\n"
     ]
    },
    {
     "name": "stderr",
     "output_type": "stream",
     "text": [
      "  1%|          | 17/1665 [00:03<07:04,  3.88it/s]"
     ]
    },
    {
     "name": "stdout",
     "output_type": "stream",
     "text": [
      "Error procesando la URL: https://super.facua.org/mercadona/leche/enriquecida/, motivo: 'NoneType' object has no attribute 'find_all'\n",
      "Error procesando la URL: https://super.facua.org/mercadona/leche/entera-semi-desnatada/, motivo: 'NoneType' object has no attribute 'find_all'\n"
     ]
    },
    {
     "name": "stderr",
     "output_type": "stream",
     "text": [
      "  1%|          | 19/1665 [00:04<07:58,  3.44it/s]"
     ]
    },
    {
     "name": "stdout",
     "output_type": "stream",
     "text": [
      "Error procesando la URL: https://super.facua.org/mercadona/leche/sin-lactosa/, motivo: 'NoneType' object has no attribute 'find_all'\n"
     ]
    },
    {
     "name": "stderr",
     "output_type": "stream",
     "text": [
      "  4%|▍         | 63/1665 [00:13<04:00,  6.67it/s]"
     ]
    },
    {
     "name": "stdout",
     "output_type": "stream",
     "text": [
      "Error procesando la URL: https://super.facua.org/carrefour/aceite-de-oliva/suave-e-intenso/, motivo: 'NoneType' object has no attribute 'find_all'\n",
      "Error procesando la URL: https://super.facua.org/carrefour/aceite-de-oliva/virgen/, motivo: 'NoneType' object has no attribute 'find_all'\n"
     ]
    },
    {
     "name": "stderr",
     "output_type": "stream",
     "text": [
      "  4%|▍         | 65/1665 [00:13<04:27,  5.99it/s]"
     ]
    },
    {
     "name": "stdout",
     "output_type": "stream",
     "text": [
      "Error procesando la URL: https://super.facua.org/carrefour/aceite-de-oliva/virgen-extra/, motivo: 'NoneType' object has no attribute 'find_all'\n"
     ]
    },
    {
     "name": "stderr",
     "output_type": "stream",
     "text": [
      " 12%|█▏        | 192/1665 [00:48<04:22,  5.61it/s]"
     ]
    },
    {
     "name": "stdout",
     "output_type": "stream",
     "text": [
      "Error procesando la URL: https://super.facua.org/carrefour/leche/enriquecida/, motivo: 'NoneType' object has no attribute 'find_all'\n"
     ]
    },
    {
     "name": "stderr",
     "output_type": "stream",
     "text": [
      " 12%|█▏        | 193/1665 [00:49<06:19,  3.88it/s]"
     ]
    },
    {
     "name": "stdout",
     "output_type": "stream",
     "text": [
      "Error procesando la URL: https://super.facua.org/carrefour/leche/entera-semi-desnatada/, motivo: 'NoneType' object has no attribute 'find_all'\n",
      "Error procesando la URL: https://super.facua.org/carrefour/leche/sin-lactosa/, motivo: 'NoneType' object has no attribute 'find_all'\n"
     ]
    },
    {
     "name": "stderr",
     "output_type": "stream",
     "text": [
      " 22%|██▏       | 358/1665 [01:37<03:13,  6.74it/s]"
     ]
    },
    {
     "name": "stdout",
     "output_type": "stream",
     "text": [
      "Error procesando la URL: https://super.facua.org/eroski/aceite-de-oliva/suave-e-intenso/, motivo: 'NoneType' object has no attribute 'find_all'\n",
      "Error procesando la URL: https://super.facua.org/eroski/aceite-de-oliva/virgen/, motivo: 'NoneType' object has no attribute 'find_all'\n"
     ]
    },
    {
     "name": "stderr",
     "output_type": "stream",
     "text": [
      " 22%|██▏       | 359/1665 [01:37<03:54,  5.58it/s]"
     ]
    },
    {
     "name": "stdout",
     "output_type": "stream",
     "text": [
      "Error procesando la URL: https://super.facua.org/eroski/aceite-de-oliva/virgen-extra/, motivo: 'NoneType' object has no attribute 'find_all'\n"
     ]
    },
    {
     "name": "stderr",
     "output_type": "stream",
     "text": [
      " 29%|██▉       | 484/1665 [02:08<04:20,  4.53it/s]"
     ]
    },
    {
     "name": "stdout",
     "output_type": "stream",
     "text": [
      "Error procesando la URL: https://super.facua.org/eroski/leche/enriquecida/, motivo: 'NoneType' object has no attribute 'find_all'\n"
     ]
    },
    {
     "name": "stderr",
     "output_type": "stream",
     "text": [
      " 29%|██▉       | 486/1665 [02:09<04:14,  4.64it/s]"
     ]
    },
    {
     "name": "stdout",
     "output_type": "stream",
     "text": [
      "Error procesando la URL: https://super.facua.org/eroski/leche/entera-semi-desnatada/, motivo: 'NoneType' object has no attribute 'find_all'\n",
      "Error procesando la URL: https://super.facua.org/eroski/leche/sin-lactosa/, motivo: 'NoneType' object has no attribute 'find_all'\n"
     ]
    },
    {
     "name": "stderr",
     "output_type": "stream",
     "text": [
      " 38%|███▊      | 636/1665 [02:49<03:02,  5.65it/s]"
     ]
    },
    {
     "name": "stdout",
     "output_type": "stream",
     "text": [
      "Error procesando la URL: https://super.facua.org/dia/aceite-de-oliva/suave-e-intenso/, motivo: 'NoneType' object has no attribute 'find_all'\n",
      "Error procesando la URL: https://super.facua.org/dia/aceite-de-oliva/virgen/, motivo: 'NoneType' object has no attribute 'find_all'\n"
     ]
    },
    {
     "name": "stderr",
     "output_type": "stream",
     "text": [
      " 38%|███▊      | 637/1665 [02:49<03:30,  4.88it/s]"
     ]
    },
    {
     "name": "stdout",
     "output_type": "stream",
     "text": [
      "Error procesando la URL: https://super.facua.org/dia/aceite-de-oliva/virgen-extra/, motivo: 'NoneType' object has no attribute 'find_all'\n"
     ]
    },
    {
     "name": "stderr",
     "output_type": "stream",
     "text": [
      " 41%|████      | 676/1665 [02:56<03:22,  4.88it/s]"
     ]
    },
    {
     "name": "stdout",
     "output_type": "stream",
     "text": [
      "Error procesando la URL: https://super.facua.org/dia/leche/enriquecida/, motivo: 'NoneType' object has no attribute 'find_all'\n"
     ]
    },
    {
     "name": "stderr",
     "output_type": "stream",
     "text": [
      " 41%|████      | 677/1665 [02:57<04:00,  4.10it/s]"
     ]
    },
    {
     "name": "stdout",
     "output_type": "stream",
     "text": [
      "Error procesando la URL: https://super.facua.org/dia/leche/entera-semi-desnatada/, motivo: 'NoneType' object has no attribute 'find_all'\n",
      "Error procesando la URL: https://super.facua.org/dia/leche/sin-lactosa/, motivo: 'NoneType' object has no attribute 'find_all'\n"
     ]
    },
    {
     "name": "stderr",
     "output_type": "stream",
     "text": [
      " 47%|████▋     | 790/1665 [03:24<02:01,  7.21it/s]"
     ]
    },
    {
     "name": "stdout",
     "output_type": "stream",
     "text": [
      "Error procesando la URL: https://super.facua.org/hipercor/aceite-de-oliva/suave-e-intenso/, motivo: 'NoneType' object has no attribute 'find_all'\n",
      "Error procesando la URL: https://super.facua.org/hipercor/aceite-de-oliva/virgen/, motivo: 'NoneType' object has no attribute 'find_all'\n"
     ]
    },
    {
     "name": "stderr",
     "output_type": "stream",
     "text": [
      " 48%|████▊     | 791/1665 [03:24<03:33,  4.09it/s]"
     ]
    },
    {
     "name": "stdout",
     "output_type": "stream",
     "text": [
      "Error procesando la URL: https://super.facua.org/hipercor/aceite-de-oliva/virgen-extra/, motivo: 'NoneType' object has no attribute 'find_all'\n"
     ]
    },
    {
     "name": "stderr",
     "output_type": "stream",
     "text": [
      " 63%|██████▎   | 1041/1665 [04:59<03:37,  2.87it/s]"
     ]
    },
    {
     "name": "stdout",
     "output_type": "stream",
     "text": [
      "Error procesando la URL: https://super.facua.org/hipercor/leche/enriquecida/, motivo: 'NoneType' object has no attribute 'find_all'\n"
     ]
    },
    {
     "name": "stderr",
     "output_type": "stream",
     "text": [
      " 63%|██████▎   | 1043/1665 [04:59<03:08,  3.30it/s]"
     ]
    },
    {
     "name": "stdout",
     "output_type": "stream",
     "text": [
      "Error procesando la URL: https://super.facua.org/hipercor/leche/entera-semi-desnatada/, motivo: 'NoneType' object has no attribute 'find_all'\n",
      "Error procesando la URL: https://super.facua.org/hipercor/leche/sin-lactosa/, motivo: 'NoneType' object has no attribute 'find_all'\n"
     ]
    },
    {
     "name": "stderr",
     "output_type": "stream",
     "text": [
      " 79%|███████▊  | 1308/1665 [06:40<00:59,  5.96it/s]"
     ]
    },
    {
     "name": "stdout",
     "output_type": "stream",
     "text": [
      "Error procesando la URL: https://super.facua.org/alcampo/aceite-de-oliva/suave-e-intenso/, motivo: 'NoneType' object has no attribute 'find_all'\n",
      "Error procesando la URL: https://super.facua.org/alcampo/aceite-de-oliva/virgen/, motivo: 'NoneType' object has no attribute 'find_all'\n"
     ]
    },
    {
     "name": "stderr",
     "output_type": "stream",
     "text": [
      " 79%|███████▊  | 1309/1665 [06:40<01:31,  3.89it/s]"
     ]
    },
    {
     "name": "stdout",
     "output_type": "stream",
     "text": [
      "Error procesando la URL: https://super.facua.org/alcampo/aceite-de-oliva/virgen-extra/, motivo: 'NoneType' object has no attribute 'find_all'\n"
     ]
    },
    {
     "name": "stderr",
     "output_type": "stream",
     "text": [
      " 88%|████████▊ | 1459/1665 [07:23<00:54,  3.80it/s]"
     ]
    },
    {
     "name": "stdout",
     "output_type": "stream",
     "text": [
      "Error procesando la URL: https://super.facua.org/alcampo/leche/enriquecida/, motivo: 'NoneType' object has no attribute 'find_all'\n"
     ]
    },
    {
     "name": "stderr",
     "output_type": "stream",
     "text": [
      " 88%|████████▊ | 1461/1665 [07:24<00:48,  4.16it/s]"
     ]
    },
    {
     "name": "stdout",
     "output_type": "stream",
     "text": [
      "Error procesando la URL: https://super.facua.org/alcampo/leche/entera-semi-desnatada/, motivo: 'NoneType' object has no attribute 'find_all'\n",
      "Error procesando la URL: https://super.facua.org/alcampo/leche/sin-lactosa/, motivo: 'NoneType' object has no attribute 'find_all'\n"
     ]
    },
    {
     "name": "stderr",
     "output_type": "stream",
     "text": [
      "100%|██████████| 1665/1665 [08:35<00:00,  3.23it/s]\n"
     ]
    }
   ],
   "source": [
    "df_supermercados = sf.obtener_historicos_facua(lista_links)"
   ]
  },
  {
   "cell_type": "code",
   "execution_count": 13,
   "metadata": {},
   "outputs": [
    {
     "data": {
      "text/plain": [
       "(111692, 9)"
      ]
     },
     "execution_count": 13,
     "metadata": {},
     "output_type": "execute_result"
    }
   ],
   "source": [
    "df_supermercados.shape"
   ]
  },
  {
   "cell_type": "code",
   "execution_count": 14,
   "metadata": {},
   "outputs": [
    {
     "data": {
      "text/plain": [
       "False    109894\n",
       "True       1798\n",
       "Name: count, dtype: int64"
      ]
     },
     "execution_count": 14,
     "metadata": {},
     "output_type": "execute_result"
    }
   ],
   "source": [
    "# Miramos cuántos duplicados tenemos\n",
    "df_supermercados.duplicated().value_counts()"
   ]
  },
  {
   "cell_type": "markdown",
   "metadata": {},
   "source": [
    " Hay productos que aparecen duplicados en la página de Facua, existiendo dos entradas con la misma URL. Por este motivo, los eliminamos del DataFrame"
   ]
  },
  {
   "cell_type": "code",
   "execution_count": 15,
   "metadata": {},
   "outputs": [],
   "source": [
    "\n",
    "df_supermercados.drop_duplicates(inplace=True)"
   ]
  },
  {
   "cell_type": "code",
   "execution_count": 18,
   "metadata": {},
   "outputs": [
    {
     "data": {
      "text/html": [
       "<div>\n",
       "<style scoped>\n",
       "    .dataframe tbody tr th:only-of-type {\n",
       "        vertical-align: middle;\n",
       "    }\n",
       "\n",
       "    .dataframe tbody tr th {\n",
       "        vertical-align: top;\n",
       "    }\n",
       "\n",
       "    .dataframe thead th {\n",
       "        text-align: right;\n",
       "    }\n",
       "</style>\n",
       "<table border=\"1\" class=\"dataframe\">\n",
       "  <thead>\n",
       "    <tr style=\"text-align: right;\">\n",
       "      <th></th>\n",
       "      <th>Día</th>\n",
       "      <th>Precio (€)</th>\n",
       "      <th>Variación</th>\n",
       "      <th>nombre_producto</th>\n",
       "      <th>supermercado</th>\n",
       "      <th>categoría_producto</th>\n",
       "      <th></th>\n",
       "      <th>Supermercado</th>\n",
       "      <th>Precio</th>\n",
       "    </tr>\n",
       "  </thead>\n",
       "  <tbody>\n",
       "    <tr>\n",
       "      <th>0</th>\n",
       "      <td>12/07/2024</td>\n",
       "      <td>1,45</td>\n",
       "      <td>=</td>\n",
       "      <td>aceite de girasol refinado 02 hacendado 1 l</td>\n",
       "      <td>mercadona</td>\n",
       "      <td>aceite-de-girasol</td>\n",
       "      <td>NaN</td>\n",
       "      <td>NaN</td>\n",
       "      <td>NaN</td>\n",
       "    </tr>\n",
       "    <tr>\n",
       "      <th>1</th>\n",
       "      <td>13/07/2024</td>\n",
       "      <td>1,45</td>\n",
       "      <td>=</td>\n",
       "      <td>aceite de girasol refinado 02 hacendado 1 l</td>\n",
       "      <td>mercadona</td>\n",
       "      <td>aceite-de-girasol</td>\n",
       "      <td>NaN</td>\n",
       "      <td>NaN</td>\n",
       "      <td>NaN</td>\n",
       "    </tr>\n",
       "    <tr>\n",
       "      <th>2</th>\n",
       "      <td>14/07/2024</td>\n",
       "      <td>1,45</td>\n",
       "      <td>=</td>\n",
       "      <td>aceite de girasol refinado 02 hacendado 1 l</td>\n",
       "      <td>mercadona</td>\n",
       "      <td>aceite-de-girasol</td>\n",
       "      <td>NaN</td>\n",
       "      <td>NaN</td>\n",
       "      <td>NaN</td>\n",
       "    </tr>\n",
       "    <tr>\n",
       "      <th>3</th>\n",
       "      <td>15/07/2024</td>\n",
       "      <td>1,45</td>\n",
       "      <td>=</td>\n",
       "      <td>aceite de girasol refinado 02 hacendado 1 l</td>\n",
       "      <td>mercadona</td>\n",
       "      <td>aceite-de-girasol</td>\n",
       "      <td>NaN</td>\n",
       "      <td>NaN</td>\n",
       "      <td>NaN</td>\n",
       "    </tr>\n",
       "    <tr>\n",
       "      <th>4</th>\n",
       "      <td>16/07/2024</td>\n",
       "      <td>1,45</td>\n",
       "      <td>=</td>\n",
       "      <td>aceite de girasol refinado 02 hacendado 1 l</td>\n",
       "      <td>mercadona</td>\n",
       "      <td>aceite-de-girasol</td>\n",
       "      <td>NaN</td>\n",
       "      <td>NaN</td>\n",
       "      <td>NaN</td>\n",
       "    </tr>\n",
       "  </tbody>\n",
       "</table>\n",
       "</div>"
      ],
      "text/plain": [
       "          Día Precio (€) Variación  \\\n",
       "0  12/07/2024       1,45         =   \n",
       "1  13/07/2024       1,45         =   \n",
       "2  14/07/2024       1,45         =   \n",
       "3  15/07/2024       1,45         =   \n",
       "4  16/07/2024       1,45         =   \n",
       "\n",
       "                               nombre_producto supermercado  \\\n",
       "0  aceite de girasol refinado 02 hacendado 1 l    mercadona   \n",
       "1  aceite de girasol refinado 02 hacendado 1 l    mercadona   \n",
       "2  aceite de girasol refinado 02 hacendado 1 l    mercadona   \n",
       "3  aceite de girasol refinado 02 hacendado 1 l    mercadona   \n",
       "4  aceite de girasol refinado 02 hacendado 1 l    mercadona   \n",
       "\n",
       "  categoría_producto      Supermercado Precio  \n",
       "0  aceite-de-girasol  NaN          NaN    NaN  \n",
       "1  aceite-de-girasol  NaN          NaN    NaN  \n",
       "2  aceite-de-girasol  NaN          NaN    NaN  \n",
       "3  aceite-de-girasol  NaN          NaN    NaN  \n",
       "4  aceite-de-girasol  NaN          NaN    NaN  "
      ]
     },
     "execution_count": 18,
     "metadata": {},
     "output_type": "execute_result"
    }
   ],
   "source": [
    "df_supermercados.head()"
   ]
  },
  {
   "cell_type": "markdown",
   "metadata": {},
   "source": [
    "Seguimos limpiando el DataFrame"
   ]
  },
  {
   "cell_type": "code",
   "execution_count": 19,
   "metadata": {},
   "outputs": [
    {
     "data": {
      "text/html": [
       "<div>\n",
       "<style scoped>\n",
       "    .dataframe tbody tr th:only-of-type {\n",
       "        vertical-align: middle;\n",
       "    }\n",
       "\n",
       "    .dataframe tbody tr th {\n",
       "        vertical-align: top;\n",
       "    }\n",
       "\n",
       "    .dataframe thead th {\n",
       "        text-align: right;\n",
       "    }\n",
       "</style>\n",
       "<table border=\"1\" class=\"dataframe\">\n",
       "  <thead>\n",
       "    <tr style=\"text-align: right;\">\n",
       "      <th></th>\n",
       "      <th>Día</th>\n",
       "      <th>Precio (€)</th>\n",
       "      <th>Variación</th>\n",
       "      <th>nombre_producto</th>\n",
       "      <th>supermercado</th>\n",
       "      <th>categoría_producto</th>\n",
       "    </tr>\n",
       "  </thead>\n",
       "  <tbody>\n",
       "    <tr>\n",
       "      <th>0</th>\n",
       "      <td>12/07/2024</td>\n",
       "      <td>1,45</td>\n",
       "      <td>=</td>\n",
       "      <td>aceite de girasol refinado 02 hacendado 1 l</td>\n",
       "      <td>mercadona</td>\n",
       "      <td>aceite-de-girasol</td>\n",
       "    </tr>\n",
       "    <tr>\n",
       "      <th>1</th>\n",
       "      <td>13/07/2024</td>\n",
       "      <td>1,45</td>\n",
       "      <td>=</td>\n",
       "      <td>aceite de girasol refinado 02 hacendado 1 l</td>\n",
       "      <td>mercadona</td>\n",
       "      <td>aceite-de-girasol</td>\n",
       "    </tr>\n",
       "    <tr>\n",
       "      <th>2</th>\n",
       "      <td>14/07/2024</td>\n",
       "      <td>1,45</td>\n",
       "      <td>=</td>\n",
       "      <td>aceite de girasol refinado 02 hacendado 1 l</td>\n",
       "      <td>mercadona</td>\n",
       "      <td>aceite-de-girasol</td>\n",
       "    </tr>\n",
       "    <tr>\n",
       "      <th>3</th>\n",
       "      <td>15/07/2024</td>\n",
       "      <td>1,45</td>\n",
       "      <td>=</td>\n",
       "      <td>aceite de girasol refinado 02 hacendado 1 l</td>\n",
       "      <td>mercadona</td>\n",
       "      <td>aceite-de-girasol</td>\n",
       "    </tr>\n",
       "    <tr>\n",
       "      <th>4</th>\n",
       "      <td>16/07/2024</td>\n",
       "      <td>1,45</td>\n",
       "      <td>=</td>\n",
       "      <td>aceite de girasol refinado 02 hacendado 1 l</td>\n",
       "      <td>mercadona</td>\n",
       "      <td>aceite-de-girasol</td>\n",
       "    </tr>\n",
       "  </tbody>\n",
       "</table>\n",
       "</div>"
      ],
      "text/plain": [
       "          Día Precio (€) Variación  \\\n",
       "0  12/07/2024       1,45         =   \n",
       "1  13/07/2024       1,45         =   \n",
       "2  14/07/2024       1,45         =   \n",
       "3  15/07/2024       1,45         =   \n",
       "4  16/07/2024       1,45         =   \n",
       "\n",
       "                               nombre_producto supermercado categoría_producto  \n",
       "0  aceite de girasol refinado 02 hacendado 1 l    mercadona  aceite-de-girasol  \n",
       "1  aceite de girasol refinado 02 hacendado 1 l    mercadona  aceite-de-girasol  \n",
       "2  aceite de girasol refinado 02 hacendado 1 l    mercadona  aceite-de-girasol  \n",
       "3  aceite de girasol refinado 02 hacendado 1 l    mercadona  aceite-de-girasol  \n",
       "4  aceite de girasol refinado 02 hacendado 1 l    mercadona  aceite-de-girasol  "
      ]
     },
     "execution_count": 19,
     "metadata": {},
     "output_type": "execute_result"
    }
   ],
   "source": [
    "df_supermercados=df_supermercados.drop(df_supermercados.columns[-3:], axis=1)\n",
    "df_supermercados.head()\n"
   ]
  },
  {
   "cell_type": "code",
   "execution_count": 20,
   "metadata": {},
   "outputs": [
    {
     "name": "stdout",
     "output_type": "stream",
     "text": [
      "<class 'pandas.core.frame.DataFrame'>\n",
      "Index: 109894 entries, 0 to 111691\n",
      "Data columns (total 6 columns):\n",
      " #   Column              Non-Null Count   Dtype \n",
      "---  ------              --------------   ----- \n",
      " 0   Día                 109276 non-null  object\n",
      " 1   Precio (€)          109276 non-null  object\n",
      " 2   Variación           109276 non-null  object\n",
      " 3   nombre_producto     109894 non-null  object\n",
      " 4   supermercado        109894 non-null  object\n",
      " 5   categoría_producto  109894 non-null  object\n",
      "dtypes: object(6)\n",
      "memory usage: 5.9+ MB\n"
     ]
    }
   ],
   "source": [
    "df_supermercados.info()"
   ]
  },
  {
   "cell_type": "code",
   "execution_count": 21,
   "metadata": {},
   "outputs": [
    {
     "data": {
      "text/html": [
       "<div>\n",
       "<style scoped>\n",
       "    .dataframe tbody tr th:only-of-type {\n",
       "        vertical-align: middle;\n",
       "    }\n",
       "\n",
       "    .dataframe tbody tr th {\n",
       "        vertical-align: top;\n",
       "    }\n",
       "\n",
       "    .dataframe thead th {\n",
       "        text-align: right;\n",
       "    }\n",
       "</style>\n",
       "<table border=\"1\" class=\"dataframe\">\n",
       "  <thead>\n",
       "    <tr style=\"text-align: right;\">\n",
       "      <th></th>\n",
       "      <th>supermercado</th>\n",
       "      <th>categoria_producto</th>\n",
       "      <th>nombre_producto</th>\n",
       "      <th>Día</th>\n",
       "      <th>Precio (€)</th>\n",
       "      <th>Variación</th>\n",
       "    </tr>\n",
       "  </thead>\n",
       "  <tbody>\n",
       "    <tr>\n",
       "      <th>0</th>\n",
       "      <td>mercadona</td>\n",
       "      <td>NaN</td>\n",
       "      <td>aceite de girasol refinado 02 hacendado 1 l</td>\n",
       "      <td>12/07/2024</td>\n",
       "      <td>1,45</td>\n",
       "      <td>=</td>\n",
       "    </tr>\n",
       "    <tr>\n",
       "      <th>1</th>\n",
       "      <td>mercadona</td>\n",
       "      <td>NaN</td>\n",
       "      <td>aceite de girasol refinado 02 hacendado 1 l</td>\n",
       "      <td>13/07/2024</td>\n",
       "      <td>1,45</td>\n",
       "      <td>=</td>\n",
       "    </tr>\n",
       "    <tr>\n",
       "      <th>2</th>\n",
       "      <td>mercadona</td>\n",
       "      <td>NaN</td>\n",
       "      <td>aceite de girasol refinado 02 hacendado 1 l</td>\n",
       "      <td>14/07/2024</td>\n",
       "      <td>1,45</td>\n",
       "      <td>=</td>\n",
       "    </tr>\n",
       "    <tr>\n",
       "      <th>3</th>\n",
       "      <td>mercadona</td>\n",
       "      <td>NaN</td>\n",
       "      <td>aceite de girasol refinado 02 hacendado 1 l</td>\n",
       "      <td>15/07/2024</td>\n",
       "      <td>1,45</td>\n",
       "      <td>=</td>\n",
       "    </tr>\n",
       "    <tr>\n",
       "      <th>4</th>\n",
       "      <td>mercadona</td>\n",
       "      <td>NaN</td>\n",
       "      <td>aceite de girasol refinado 02 hacendado 1 l</td>\n",
       "      <td>16/07/2024</td>\n",
       "      <td>1,45</td>\n",
       "      <td>=</td>\n",
       "    </tr>\n",
       "  </tbody>\n",
       "</table>\n",
       "</div>"
      ],
      "text/plain": [
       "  supermercado  categoria_producto  \\\n",
       "0    mercadona                 NaN   \n",
       "1    mercadona                 NaN   \n",
       "2    mercadona                 NaN   \n",
       "3    mercadona                 NaN   \n",
       "4    mercadona                 NaN   \n",
       "\n",
       "                               nombre_producto         Día Precio (€)  \\\n",
       "0  aceite de girasol refinado 02 hacendado 1 l  12/07/2024       1,45   \n",
       "1  aceite de girasol refinado 02 hacendado 1 l  13/07/2024       1,45   \n",
       "2  aceite de girasol refinado 02 hacendado 1 l  14/07/2024       1,45   \n",
       "3  aceite de girasol refinado 02 hacendado 1 l  15/07/2024       1,45   \n",
       "4  aceite de girasol refinado 02 hacendado 1 l  16/07/2024       1,45   \n",
       "\n",
       "  Variación  \n",
       "0         =  \n",
       "1         =  \n",
       "2         =  \n",
       "3         =  \n",
       "4         =  "
      ]
     },
     "execution_count": 21,
     "metadata": {},
     "output_type": "execute_result"
    }
   ],
   "source": [
    "df_supermercados = df_supermercados.reindex(columns=['supermercado', 'categoria_producto','nombre_producto', 'Día', 'Precio (€)', 'Variación'])\n",
    "df_supermercados.head()"
   ]
  }
 ],
 "metadata": {
  "kernelspec": {
   "display_name": "Proyecto_Supermercados",
   "language": "python",
   "name": "python3"
  },
  "language_info": {
   "codemirror_mode": {
    "name": "ipython",
    "version": 3
   },
   "file_extension": ".py",
   "mimetype": "text/x-python",
   "name": "python",
   "nbconvert_exporter": "python",
   "pygments_lexer": "ipython3",
   "version": "3.12.7"
  }
 },
 "nbformat": 4,
 "nbformat_minor": 2
}
