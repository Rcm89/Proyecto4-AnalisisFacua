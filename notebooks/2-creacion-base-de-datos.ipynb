{
 "cells": [
  {
   "cell_type": "code",
   "execution_count": 180,
   "metadata": {},
   "outputs": [],
   "source": [
    "#Importamos las librerías que vamos a necesitar\n",
    "import pandas as pd\n",
    "import numpy as np\n",
    "import sys\n",
    "import os\n",
    "import warnings\n",
    "warnings.filterwarnings('ignore')"
   ]
  },
  {
   "cell_type": "code",
   "execution_count": 181,
   "metadata": {},
   "outputs": [],
   "source": [
    "df_tablas = pd.read_csv(f\"../datos/df_supermercados.csv\")"
   ]
  },
  {
   "cell_type": "markdown",
   "metadata": {},
   "source": [
    "## Preparación de las tablas para la base de datos"
   ]
  },
  {
   "cell_type": "markdown",
   "metadata": {},
   "source": [
    "### Tabla productos"
   ]
  },
  {
   "cell_type": "code",
   "execution_count": 182,
   "metadata": {},
   "outputs": [
    {
     "data": {
      "text/html": [
       "<div>\n",
       "<style scoped>\n",
       "    .dataframe tbody tr th:only-of-type {\n",
       "        vertical-align: middle;\n",
       "    }\n",
       "\n",
       "    .dataframe tbody tr th {\n",
       "        vertical-align: top;\n",
       "    }\n",
       "\n",
       "    .dataframe thead th {\n",
       "        text-align: right;\n",
       "    }\n",
       "</style>\n",
       "<table border=\"1\" class=\"dataframe\">\n",
       "  <thead>\n",
       "    <tr style=\"text-align: right;\">\n",
       "      <th></th>\n",
       "      <th>id_producto</th>\n",
       "      <th>nombre</th>\n",
       "    </tr>\n",
       "  </thead>\n",
       "  <tbody>\n",
       "    <tr>\n",
       "      <th>0</th>\n",
       "      <td>1</td>\n",
       "      <td>Aceite de girasol</td>\n",
       "    </tr>\n",
       "    <tr>\n",
       "      <th>1</th>\n",
       "      <td>2</td>\n",
       "      <td>Aceite de oliva</td>\n",
       "    </tr>\n",
       "    <tr>\n",
       "      <th>2</th>\n",
       "      <td>3</td>\n",
       "      <td>Leche</td>\n",
       "    </tr>\n",
       "  </tbody>\n",
       "</table>\n",
       "</div>"
      ],
      "text/plain": [
       "   id_producto             nombre\n",
       "0            1  Aceite de girasol\n",
       "1            2    Aceite de oliva\n",
       "2            3              Leche"
      ]
     },
     "execution_count": 182,
     "metadata": {},
     "output_type": "execute_result"
    }
   ],
   "source": [
    "df_productos = pd.DataFrame(df_tablas[\"categoria_producto\"].unique())\n",
    "df_productos.reset_index(inplace=True)\n",
    "df_productos.rename(columns={'index':'id_producto', 0:'nombre'}, inplace=True)\n",
    "df_productos[\"id_producto\"]=df_productos[\"id_producto\"].apply(lambda x: x+1)\n",
    "df_productos"
   ]
  },
  {
   "cell_type": "code",
   "execution_count": 183,
   "metadata": {},
   "outputs": [],
   "source": [
    "# df_productos.to_csv(\"../datos/tabla_productos.csv\")"
   ]
  },
  {
   "cell_type": "code",
   "execution_count": 184,
   "metadata": {},
   "outputs": [],
   "source": [
    "lista_tuplas_productos = []\n",
    "for fila in df_productos.values:\n",
    "    lista_tuplas_productos.append(tuple(fila))"
   ]
  },
  {
   "cell_type": "markdown",
   "metadata": {},
   "source": [
    "### Tabla supermercados"
   ]
  },
  {
   "cell_type": "code",
   "execution_count": 185,
   "metadata": {},
   "outputs": [
    {
     "data": {
      "text/html": [
       "<div>\n",
       "<style scoped>\n",
       "    .dataframe tbody tr th:only-of-type {\n",
       "        vertical-align: middle;\n",
       "    }\n",
       "\n",
       "    .dataframe tbody tr th {\n",
       "        vertical-align: top;\n",
       "    }\n",
       "\n",
       "    .dataframe thead th {\n",
       "        text-align: right;\n",
       "    }\n",
       "</style>\n",
       "<table border=\"1\" class=\"dataframe\">\n",
       "  <thead>\n",
       "    <tr style=\"text-align: right;\">\n",
       "      <th></th>\n",
       "      <th>id_super</th>\n",
       "      <th>nombre</th>\n",
       "    </tr>\n",
       "  </thead>\n",
       "  <tbody>\n",
       "    <tr>\n",
       "      <th>0</th>\n",
       "      <td>1</td>\n",
       "      <td>alcampo</td>\n",
       "    </tr>\n",
       "    <tr>\n",
       "      <th>1</th>\n",
       "      <td>2</td>\n",
       "      <td>carrefour</td>\n",
       "    </tr>\n",
       "    <tr>\n",
       "      <th>2</th>\n",
       "      <td>3</td>\n",
       "      <td>dia</td>\n",
       "    </tr>\n",
       "    <tr>\n",
       "      <th>3</th>\n",
       "      <td>4</td>\n",
       "      <td>eroski</td>\n",
       "    </tr>\n",
       "    <tr>\n",
       "      <th>4</th>\n",
       "      <td>5</td>\n",
       "      <td>hipercor</td>\n",
       "    </tr>\n",
       "    <tr>\n",
       "      <th>5</th>\n",
       "      <td>6</td>\n",
       "      <td>mercadona</td>\n",
       "    </tr>\n",
       "  </tbody>\n",
       "</table>\n",
       "</div>"
      ],
      "text/plain": [
       "   id_super     nombre\n",
       "0         1    alcampo\n",
       "1         2  carrefour\n",
       "2         3        dia\n",
       "3         4     eroski\n",
       "4         5   hipercor\n",
       "5         6  mercadona"
      ]
     },
     "execution_count": 185,
     "metadata": {},
     "output_type": "execute_result"
    }
   ],
   "source": [
    "df_superm = pd.DataFrame(df_tablas[\"supermercado\"].unique())\n",
    "df_superm.reset_index(inplace=True)\n",
    "df_superm.rename(columns={'index':'id_super', 0:'nombre'}, inplace=True)\n",
    "df_superm[\"id_super\"]=df_superm[\"id_super\"].apply(lambda x: x+1)\n",
    "df_superm"
   ]
  },
  {
   "cell_type": "code",
   "execution_count": 186,
   "metadata": {},
   "outputs": [],
   "source": [
    "# df_superm.to_csv(\"../datos/tabla_superm.csv\")"
   ]
  },
  {
   "cell_type": "code",
   "execution_count": 187,
   "metadata": {},
   "outputs": [],
   "source": [
    "lista_tuplas_supermercados = []\n",
    "for fila in df_superm.values:\n",
    "    lista_tuplas_supermercados.append(tuple(fila))"
   ]
  },
  {
   "cell_type": "markdown",
   "metadata": {},
   "source": [
    "### Tabla histórico"
   ]
  },
  {
   "cell_type": "markdown",
   "metadata": {},
   "source": [
    "Incluimos los id del supermercado y producto que serán las claves foraneas:"
   ]
  },
  {
   "cell_type": "code",
   "execution_count": 188,
   "metadata": {},
   "outputs": [],
   "source": [
    "df_aux_historico = df_tablas.merge(right=df_superm, how='left', left_on ='supermercado', right_on=\"nombre\")\n",
    "df_aux_historico=df_aux_historico.drop(columns=[\"Unnamed: 0\", \"supermercado\", \"nombre\"])\n",
    "df_aux_historico_2 = df_aux_historico.merge(right=df_productos, how='left', left_on ='categoria_producto', right_on=\"nombre\")\n",
    "df_aux_historico_2 = df_aux_historico_2.drop(columns=[\"categoria_producto\", \"nombre\"])"
   ]
  },
  {
   "cell_type": "markdown",
   "metadata": {},
   "source": [
    "Reordenamos y borramos duplicados"
   ]
  },
  {
   "cell_type": "code",
   "execution_count": 189,
   "metadata": {},
   "outputs": [
    {
     "data": {
      "text/html": [
       "<div>\n",
       "<style scoped>\n",
       "    .dataframe tbody tr th:only-of-type {\n",
       "        vertical-align: middle;\n",
       "    }\n",
       "\n",
       "    .dataframe tbody tr th {\n",
       "        vertical-align: top;\n",
       "    }\n",
       "\n",
       "    .dataframe thead th {\n",
       "        text-align: right;\n",
       "    }\n",
       "</style>\n",
       "<table border=\"1\" class=\"dataframe\">\n",
       "  <thead>\n",
       "    <tr style=\"text-align: right;\">\n",
       "      <th></th>\n",
       "      <th>id_super</th>\n",
       "      <th>id_producto</th>\n",
       "      <th>nombre_producto</th>\n",
       "      <th>subcategoria</th>\n",
       "      <th>Día</th>\n",
       "      <th>Precio (€)</th>\n",
       "      <th>cantidad_variacion</th>\n",
       "      <th>porcentaje_variacion</th>\n",
       "    </tr>\n",
       "  </thead>\n",
       "  <tbody>\n",
       "    <tr>\n",
       "      <th>190069</th>\n",
       "      <td>6</td>\n",
       "      <td>3</td>\n",
       "      <td>la colmenarena leche semidesnatada 1l</td>\n",
       "      <td>NaN</td>\n",
       "      <td>2024-10-19</td>\n",
       "      <td>1.30</td>\n",
       "      <td>0.00</td>\n",
       "      <td>0.0</td>\n",
       "    </tr>\n",
       "    <tr>\n",
       "      <th>6415</th>\n",
       "      <td>1</td>\n",
       "      <td>2</td>\n",
       "      <td>guillen aceite de oliva intenso botella 1 l</td>\n",
       "      <td>NaN</td>\n",
       "      <td>2024-10-02</td>\n",
       "      <td>9.68</td>\n",
       "      <td>0.19</td>\n",
       "      <td>2.0</td>\n",
       "    </tr>\n",
       "    <tr>\n",
       "      <th>174613</th>\n",
       "      <td>6</td>\n",
       "      <td>2</td>\n",
       "      <td>mar de olivos aceite de oliva virgen extra bot...</td>\n",
       "      <td>NaN</td>\n",
       "      <td>2024-07-31</td>\n",
       "      <td>10.46</td>\n",
       "      <td>0.00</td>\n",
       "      <td>0.0</td>\n",
       "    </tr>\n",
       "    <tr>\n",
       "      <th>102709</th>\n",
       "      <td>4</td>\n",
       "      <td>2</td>\n",
       "      <td>carbonell aceite de oliva virgen extra spray 2...</td>\n",
       "      <td>NaN</td>\n",
       "      <td>2024-07-27</td>\n",
       "      <td>3.97</td>\n",
       "      <td>0.00</td>\n",
       "      <td>0.0</td>\n",
       "    </tr>\n",
       "    <tr>\n",
       "      <th>123933</th>\n",
       "      <td>4</td>\n",
       "      <td>3</td>\n",
       "      <td>la colmenarena leche entera fresca 1 l</td>\n",
       "      <td>NaN</td>\n",
       "      <td>2024-08-26</td>\n",
       "      <td>1.28</td>\n",
       "      <td>0.00</td>\n",
       "      <td>0.0</td>\n",
       "    </tr>\n",
       "  </tbody>\n",
       "</table>\n",
       "</div>"
      ],
      "text/plain": [
       "        id_super  id_producto  \\\n",
       "190069         6            3   \n",
       "6415           1            2   \n",
       "174613         6            2   \n",
       "102709         4            2   \n",
       "123933         4            3   \n",
       "\n",
       "                                          nombre_producto  subcategoria  \\\n",
       "190069              la colmenarena leche semidesnatada 1l           NaN   \n",
       "6415          guillen aceite de oliva intenso botella 1 l           NaN   \n",
       "174613  mar de olivos aceite de oliva virgen extra bot...           NaN   \n",
       "102709  carbonell aceite de oliva virgen extra spray 2...           NaN   \n",
       "123933             la colmenarena leche entera fresca 1 l           NaN   \n",
       "\n",
       "               Día  Precio (€)  cantidad_variacion  porcentaje_variacion  \n",
       "190069  2024-10-19        1.30                0.00                   0.0  \n",
       "6415    2024-10-02        9.68                0.19                   2.0  \n",
       "174613  2024-07-31       10.46                0.00                   0.0  \n",
       "102709  2024-07-27        3.97                0.00                   0.0  \n",
       "123933  2024-08-26        1.28                0.00                   0.0  "
      ]
     },
     "execution_count": 189,
     "metadata": {},
     "output_type": "execute_result"
    }
   ],
   "source": [
    "df_aux_historico_2 = df_aux_historico_2.reindex(columns=['id_super', 'id_producto', 'nombre_producto', 'subcategoria', 'Día', 'Precio (€)', 'cantidad_variacion', 'porcentaje_variacion'])\n",
    "df_aux_historico_2.drop_duplicates(inplace=True)\n",
    "df_historico = df_aux_historico_2\n",
    "df_historico.sample(5)"
   ]
  },
  {
   "cell_type": "code",
   "execution_count": 190,
   "metadata": {},
   "outputs": [],
   "source": [
    "# df_historico.to_csv(\"../datos/tabla_historico.csv\")"
   ]
  },
  {
   "cell_type": "code",
   "execution_count": 191,
   "metadata": {},
   "outputs": [],
   "source": [
    "lista_tuplas_historico = []\n",
    "for fila in df_historico.values:\n",
    "    lista_tuplas_historico.append(tuple(fila))"
   ]
  }
 ],
 "metadata": {
  "kernelspec": {
   "display_name": "Proyecto_Supermercados",
   "language": "python",
   "name": "python3"
  },
  "language_info": {
   "codemirror_mode": {
    "name": "ipython",
    "version": 3
   },
   "file_extension": ".py",
   "mimetype": "text/x-python",
   "name": "python",
   "nbconvert_exporter": "python",
   "pygments_lexer": "ipython3",
   "version": "3.12.7"
  }
 },
 "nbformat": 4,
 "nbformat_minor": 2
}
