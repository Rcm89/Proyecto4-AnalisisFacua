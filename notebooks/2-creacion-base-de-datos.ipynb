{
 "cells": [
  {
   "cell_type": "code",
   "execution_count": 1,
   "metadata": {},
   "outputs": [],
   "source": [
    "#Importamos las librerías que vamos a necesitar\n",
    "import pandas as pd\n",
    "import numpy as np\n",
    "import sys\n",
    "import os\n",
    "import warnings\n",
    "warnings.filterwarnings('ignore')"
   ]
  },
  {
   "cell_type": "code",
   "execution_count": 2,
   "metadata": {},
   "outputs": [
    {
     "data": {
      "text/plain": [
       "True"
      ]
     },
     "execution_count": 2,
     "metadata": {},
     "output_type": "execute_result"
    }
   ],
   "source": [
    "# Librería para manejar archivos .env, para cargar tokens y claves\n",
    "import os\n",
    "import dotenv\n",
    "dotenv.load_dotenv()"
   ]
  },
  {
   "cell_type": "code",
   "execution_count": 3,
   "metadata": {},
   "outputs": [],
   "source": [
    "# Librería para trabajar con bases de datos SQL\n",
    "import psycopg2\n",
    "from psycopg2 import OperationalError, errorcodes, errors"
   ]
  },
  {
   "cell_type": "code",
   "execution_count": 4,
   "metadata": {},
   "outputs": [],
   "source": [
    "df_tablas = pd.read_csv(f\"../datos/df_supermercados.csv\")"
   ]
  },
  {
   "cell_type": "markdown",
   "metadata": {},
   "source": [
    "## Preparación de las tablas para la base de datos"
   ]
  },
  {
   "cell_type": "markdown",
   "metadata": {},
   "source": [
    "### Tabla productos"
   ]
  },
  {
   "cell_type": "code",
   "execution_count": 5,
   "metadata": {},
   "outputs": [
    {
     "data": {
      "text/html": [
       "<div>\n",
       "<style scoped>\n",
       "    .dataframe tbody tr th:only-of-type {\n",
       "        vertical-align: middle;\n",
       "    }\n",
       "\n",
       "    .dataframe tbody tr th {\n",
       "        vertical-align: top;\n",
       "    }\n",
       "\n",
       "    .dataframe thead th {\n",
       "        text-align: right;\n",
       "    }\n",
       "</style>\n",
       "<table border=\"1\" class=\"dataframe\">\n",
       "  <thead>\n",
       "    <tr style=\"text-align: right;\">\n",
       "      <th></th>\n",
       "      <th>id_producto</th>\n",
       "      <th>nombre</th>\n",
       "    </tr>\n",
       "  </thead>\n",
       "  <tbody>\n",
       "    <tr>\n",
       "      <th>0</th>\n",
       "      <td>1</td>\n",
       "      <td>aceite de girasol</td>\n",
       "    </tr>\n",
       "    <tr>\n",
       "      <th>1</th>\n",
       "      <td>2</td>\n",
       "      <td>aceite de oliva</td>\n",
       "    </tr>\n",
       "    <tr>\n",
       "      <th>2</th>\n",
       "      <td>3</td>\n",
       "      <td>leche</td>\n",
       "    </tr>\n",
       "  </tbody>\n",
       "</table>\n",
       "</div>"
      ],
      "text/plain": [
       "   id_producto             nombre\n",
       "0            1  aceite de girasol\n",
       "1            2    aceite de oliva\n",
       "2            3              leche"
      ]
     },
     "execution_count": 5,
     "metadata": {},
     "output_type": "execute_result"
    }
   ],
   "source": [
    "df_productos = pd.DataFrame(df_tablas[\"categoria_producto\"].unique())\n",
    "df_productos.reset_index(inplace=True)\n",
    "df_productos.rename(columns={'index':'id_producto', 0:'nombre'}, inplace=True)\n",
    "df_productos[\"id_producto\"]=df_productos[\"id_producto\"].apply(lambda x: x+1)\n",
    "df_productos"
   ]
  },
  {
   "cell_type": "code",
   "execution_count": 6,
   "metadata": {},
   "outputs": [],
   "source": [
    "# df_productos.to_csv(\"../datos/tabla_productos.csv\")"
   ]
  },
  {
   "cell_type": "code",
   "execution_count": 7,
   "metadata": {},
   "outputs": [],
   "source": [
    "lista_tuplas_productos = []\n",
    "for fila in df_productos.values:\n",
    "    lista_tuplas_productos.append(tuple(fila))"
   ]
  },
  {
   "cell_type": "markdown",
   "metadata": {},
   "source": [
    "### Tabla supermercados"
   ]
  },
  {
   "cell_type": "code",
   "execution_count": 8,
   "metadata": {},
   "outputs": [
    {
     "data": {
      "text/html": [
       "<div>\n",
       "<style scoped>\n",
       "    .dataframe tbody tr th:only-of-type {\n",
       "        vertical-align: middle;\n",
       "    }\n",
       "\n",
       "    .dataframe tbody tr th {\n",
       "        vertical-align: top;\n",
       "    }\n",
       "\n",
       "    .dataframe thead th {\n",
       "        text-align: right;\n",
       "    }\n",
       "</style>\n",
       "<table border=\"1\" class=\"dataframe\">\n",
       "  <thead>\n",
       "    <tr style=\"text-align: right;\">\n",
       "      <th></th>\n",
       "      <th>id_super</th>\n",
       "      <th>nombre</th>\n",
       "    </tr>\n",
       "  </thead>\n",
       "  <tbody>\n",
       "    <tr>\n",
       "      <th>0</th>\n",
       "      <td>1</td>\n",
       "      <td>alcampo</td>\n",
       "    </tr>\n",
       "    <tr>\n",
       "      <th>1</th>\n",
       "      <td>2</td>\n",
       "      <td>carrefour</td>\n",
       "    </tr>\n",
       "    <tr>\n",
       "      <th>2</th>\n",
       "      <td>3</td>\n",
       "      <td>dia</td>\n",
       "    </tr>\n",
       "    <tr>\n",
       "      <th>3</th>\n",
       "      <td>4</td>\n",
       "      <td>eroski</td>\n",
       "    </tr>\n",
       "    <tr>\n",
       "      <th>4</th>\n",
       "      <td>5</td>\n",
       "      <td>hipercor</td>\n",
       "    </tr>\n",
       "    <tr>\n",
       "      <th>5</th>\n",
       "      <td>6</td>\n",
       "      <td>mercadona</td>\n",
       "    </tr>\n",
       "  </tbody>\n",
       "</table>\n",
       "</div>"
      ],
      "text/plain": [
       "   id_super     nombre\n",
       "0         1    alcampo\n",
       "1         2  carrefour\n",
       "2         3        dia\n",
       "3         4     eroski\n",
       "4         5   hipercor\n",
       "5         6  mercadona"
      ]
     },
     "execution_count": 8,
     "metadata": {},
     "output_type": "execute_result"
    }
   ],
   "source": [
    "df_superm = pd.DataFrame(df_tablas[\"supermercado\"].unique())\n",
    "df_superm.reset_index(inplace=True)\n",
    "df_superm.rename(columns={'index':'id_super', 0:'nombre'}, inplace=True)\n",
    "df_superm[\"id_super\"]=df_superm[\"id_super\"].apply(lambda x: x+1)\n",
    "df_superm"
   ]
  },
  {
   "cell_type": "code",
   "execution_count": 9,
   "metadata": {},
   "outputs": [],
   "source": [
    "# df_superm.to_csv(\"../datos/tabla_superm.csv\")"
   ]
  },
  {
   "cell_type": "code",
   "execution_count": 10,
   "metadata": {},
   "outputs": [],
   "source": [
    "lista_tuplas_supermercados = []\n",
    "for fila in df_superm.values:\n",
    "    lista_tuplas_supermercados.append(tuple(fila))"
   ]
  },
  {
   "cell_type": "markdown",
   "metadata": {},
   "source": [
    "### Tabla histórico"
   ]
  },
  {
   "cell_type": "markdown",
   "metadata": {},
   "source": [
    "Incluimos los id del supermercado y producto que serán las claves foraneas:"
   ]
  },
  {
   "cell_type": "code",
   "execution_count": 11,
   "metadata": {},
   "outputs": [],
   "source": [
    "df_aux_historico = df_tablas.merge(right=df_superm, how='left', left_on ='supermercado', right_on=\"nombre\")\n",
    "df_aux_historico=df_aux_historico.drop(columns=[\"Unnamed: 0\", \"supermercado\", \"nombre\"])\n",
    "df_aux_historico_2 = df_aux_historico.merge(right=df_productos, how='left', left_on ='categoria_producto', right_on=\"nombre\")\n",
    "df_aux_historico_2 = df_aux_historico_2.drop(columns=[\"categoria_producto\", \"nombre\"])"
   ]
  },
  {
   "cell_type": "markdown",
   "metadata": {},
   "source": [
    "Reordenamos y borramos duplicados"
   ]
  },
  {
   "cell_type": "code",
   "execution_count": 12,
   "metadata": {},
   "outputs": [
    {
     "data": {
      "text/html": [
       "<div>\n",
       "<style scoped>\n",
       "    .dataframe tbody tr th:only-of-type {\n",
       "        vertical-align: middle;\n",
       "    }\n",
       "\n",
       "    .dataframe tbody tr th {\n",
       "        vertical-align: top;\n",
       "    }\n",
       "\n",
       "    .dataframe thead th {\n",
       "        text-align: right;\n",
       "    }\n",
       "</style>\n",
       "<table border=\"1\" class=\"dataframe\">\n",
       "  <thead>\n",
       "    <tr style=\"text-align: right;\">\n",
       "      <th></th>\n",
       "      <th>id_super</th>\n",
       "      <th>id_producto</th>\n",
       "      <th>nombre_producto</th>\n",
       "      <th>subcategoria</th>\n",
       "      <th>Día</th>\n",
       "      <th>Precio (€)</th>\n",
       "      <th>cantidad_variacion</th>\n",
       "      <th>porcentaje_variacion</th>\n",
       "    </tr>\n",
       "  </thead>\n",
       "  <tbody>\n",
       "    <tr>\n",
       "      <th>83201</th>\n",
       "      <td>3</td>\n",
       "      <td>3</td>\n",
       "      <td>alcampo cultivamos lo bueno leche de vaca ente...</td>\n",
       "      <td>entera</td>\n",
       "      <td>2024-08-13</td>\n",
       "      <td>1.29</td>\n",
       "      <td>0.0</td>\n",
       "      <td>0.0</td>\n",
       "    </tr>\n",
       "    <tr>\n",
       "      <th>73783</th>\n",
       "      <td>3</td>\n",
       "      <td>2</td>\n",
       "      <td>fruto del sur aceite de oliva virgen extra bot...</td>\n",
       "      <td>virgen extra</td>\n",
       "      <td>2024-07-04</td>\n",
       "      <td>9.17</td>\n",
       "      <td>0.0</td>\n",
       "      <td>0.0</td>\n",
       "    </tr>\n",
       "    <tr>\n",
       "      <th>172780</th>\n",
       "      <td>6</td>\n",
       "      <td>2</td>\n",
       "      <td>carbonell aceite de oliva virgen extra spray 2...</td>\n",
       "      <td>virgen extra</td>\n",
       "      <td>2024-10-21</td>\n",
       "      <td>3.81</td>\n",
       "      <td>0.0</td>\n",
       "      <td>0.0</td>\n",
       "    </tr>\n",
       "    <tr>\n",
       "      <th>28467</th>\n",
       "      <td>1</td>\n",
       "      <td>3</td>\n",
       "      <td>pascual leche entera de vaca 1 l</td>\n",
       "      <td>entera</td>\n",
       "      <td>2024-07-24</td>\n",
       "      <td>1.22</td>\n",
       "      <td>0.0</td>\n",
       "      <td>0.0</td>\n",
       "    </tr>\n",
       "    <tr>\n",
       "      <th>57367</th>\n",
       "      <td>2</td>\n",
       "      <td>3</td>\n",
       "      <td>kaiku leche de vaca semidesnatada y sin lactos...</td>\n",
       "      <td>semidesnatada</td>\n",
       "      <td>2024-08-17</td>\n",
       "      <td>1.29</td>\n",
       "      <td>0.0</td>\n",
       "      <td>0.0</td>\n",
       "    </tr>\n",
       "  </tbody>\n",
       "</table>\n",
       "</div>"
      ],
      "text/plain": [
       "        id_super  id_producto  \\\n",
       "83201          3            3   \n",
       "73783          3            2   \n",
       "172780         6            2   \n",
       "28467          1            3   \n",
       "57367          2            3   \n",
       "\n",
       "                                          nombre_producto   subcategoria  \\\n",
       "83201   alcampo cultivamos lo bueno leche de vaca ente...         entera   \n",
       "73783   fruto del sur aceite de oliva virgen extra bot...   virgen extra   \n",
       "172780  carbonell aceite de oliva virgen extra spray 2...   virgen extra   \n",
       "28467                    pascual leche entera de vaca 1 l         entera   \n",
       "57367   kaiku leche de vaca semidesnatada y sin lactos...  semidesnatada   \n",
       "\n",
       "               Día  Precio (€)  cantidad_variacion  porcentaje_variacion  \n",
       "83201   2024-08-13        1.29                 0.0                   0.0  \n",
       "73783   2024-07-04        9.17                 0.0                   0.0  \n",
       "172780  2024-10-21        3.81                 0.0                   0.0  \n",
       "28467   2024-07-24        1.22                 0.0                   0.0  \n",
       "57367   2024-08-17        1.29                 0.0                   0.0  "
      ]
     },
     "execution_count": 12,
     "metadata": {},
     "output_type": "execute_result"
    }
   ],
   "source": [
    "df_aux_historico_2 = df_aux_historico_2.reindex(columns=['id_super', 'id_producto', 'nombre_producto', 'subcategoria', 'Día', 'Precio (€)', 'cantidad_variacion', 'porcentaje_variacion'])\n",
    "df_aux_historico_2.drop_duplicates(inplace=True)\n",
    "df_historico = df_aux_historico_2\n",
    "df_historico.sample(5)"
   ]
  },
  {
   "cell_type": "code",
   "execution_count": 13,
   "metadata": {},
   "outputs": [],
   "source": [
    "# df_historico.to_csv(\"../datos/tabla_historico.csv\")"
   ]
  },
  {
   "cell_type": "code",
   "execution_count": 14,
   "metadata": {},
   "outputs": [],
   "source": [
    "lista_tuplas_historico = []\n",
    "for fila in df_historico.values:\n",
    "    lista_tuplas_historico.append(tuple(fila))"
   ]
  },
  {
   "cell_type": "code",
   "execution_count": 15,
   "metadata": {},
   "outputs": [],
   "source": [
    "#Guardamos de forma segura la contraeña para conectarnos a la base de datos.\n",
    "key = os.getenv(\"token\")"
   ]
  },
  {
   "cell_type": "code",
   "execution_count": 17,
   "metadata": {},
   "outputs": [],
   "source": [
    "def conexion_a_dbeaver(database):\n",
    "    \"\"\"\n",
    "    Establece una conexión a una base de datos DBeaver.\n",
    "\n",
    "    Args:\n",
    "        database (str): El nombre de la base de datos.\n",
    "\n",
    "    Returns:\n",
    "        conexion: Un objeto de conexión a la base de datos.\n",
    "    \"\"\"\n",
    "    try:\n",
    "        conexion = psycopg2.connect(\n",
    "            database=database,\n",
    "            user=\"postgres\",\n",
    "            password=\"admin\",\n",
    "            host=\"localhost\",\n",
    "            port=\"5432\"\n",
    "        )\n",
    "    except OperationalError as e:\n",
    "        if e.pgcode == errorcodes.INVALID_PASSWORD:\n",
    "            print(\"La contraseña intorducida es errónea\")\n",
    "        elif e.pgcode == errorcodes.CONNECTION_EXCEPTION:\n",
    "            print(\"Se ha producido un error de conexión\")\n",
    "        else:\n",
    "            print(f\"Ocurrió el error {e}\")\n",
    "    cursor = conexion.cursor()\n",
    "    return conexion"
   ]
  }
 ],
 "metadata": {
  "kernelspec": {
   "display_name": "Proyecto_Supermercados",
   "language": "python",
   "name": "python3"
  },
  "language_info": {
   "codemirror_mode": {
    "name": "ipython",
    "version": 3
   },
   "file_extension": ".py",
   "mimetype": "text/x-python",
   "name": "python",
   "nbconvert_exporter": "python",
   "pygments_lexer": "ipython3",
   "version": "3.12.7"
  }
 },
 "nbformat": 4,
 "nbformat_minor": 2
}
