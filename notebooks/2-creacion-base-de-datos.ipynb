{
 "cells": [
  {
   "cell_type": "code",
   "execution_count": 192,
   "metadata": {},
   "outputs": [],
   "source": [
    "#Importamos las librerías que vamos a necesitar\n",
    "import pandas as pd\n",
    "import numpy as np\n",
    "import sys\n",
    "import os\n",
    "import warnings\n",
    "warnings.filterwarnings('ignore')"
   ]
  },
  {
   "cell_type": "code",
   "execution_count": 193,
   "metadata": {},
   "outputs": [],
   "source": [
    "df_tablas = pd.read_csv(f\"../datos/df_supermercados.csv\")"
   ]
  },
  {
   "cell_type": "markdown",
   "metadata": {},
   "source": [
    "## Preparación de las tablas para la base de datos"
   ]
  },
  {
   "cell_type": "markdown",
   "metadata": {},
   "source": [
    "### Tabla productos"
   ]
  },
  {
   "cell_type": "code",
   "execution_count": 194,
   "metadata": {},
   "outputs": [
    {
     "data": {
      "text/html": [
       "<div>\n",
       "<style scoped>\n",
       "    .dataframe tbody tr th:only-of-type {\n",
       "        vertical-align: middle;\n",
       "    }\n",
       "\n",
       "    .dataframe tbody tr th {\n",
       "        vertical-align: top;\n",
       "    }\n",
       "\n",
       "    .dataframe thead th {\n",
       "        text-align: right;\n",
       "    }\n",
       "</style>\n",
       "<table border=\"1\" class=\"dataframe\">\n",
       "  <thead>\n",
       "    <tr style=\"text-align: right;\">\n",
       "      <th></th>\n",
       "      <th>id_producto</th>\n",
       "      <th>nombre</th>\n",
       "    </tr>\n",
       "  </thead>\n",
       "  <tbody>\n",
       "    <tr>\n",
       "      <th>0</th>\n",
       "      <td>1</td>\n",
       "      <td>leche</td>\n",
       "    </tr>\n",
       "  </tbody>\n",
       "</table>\n",
       "</div>"
      ],
      "text/plain": [
       "   id_producto nombre\n",
       "0            1  leche"
      ]
     },
     "execution_count": 194,
     "metadata": {},
     "output_type": "execute_result"
    }
   ],
   "source": [
    "df_productos = pd.DataFrame(df_tablas[\"categoria_producto\"].unique())\n",
    "df_productos.reset_index(inplace=True)\n",
    "df_productos.rename(columns={'index':'id_producto', 0:'nombre'}, inplace=True)\n",
    "df_productos[\"id_producto\"]=df_productos[\"id_producto\"].apply(lambda x: x+1)\n",
    "df_productos"
   ]
  },
  {
   "cell_type": "code",
   "execution_count": 195,
   "metadata": {},
   "outputs": [],
   "source": [
    "# df_productos.to_csv(\"../datos/tabla_productos.csv\")"
   ]
  },
  {
   "cell_type": "code",
   "execution_count": 196,
   "metadata": {},
   "outputs": [],
   "source": [
    "lista_tuplas_productos = []\n",
    "for fila in df_productos.values:\n",
    "    lista_tuplas_productos.append(tuple(fila))"
   ]
  },
  {
   "cell_type": "markdown",
   "metadata": {},
   "source": [
    "### Tabla supermercados"
   ]
  },
  {
   "cell_type": "code",
   "execution_count": 197,
   "metadata": {},
   "outputs": [
    {
     "data": {
      "text/html": [
       "<div>\n",
       "<style scoped>\n",
       "    .dataframe tbody tr th:only-of-type {\n",
       "        vertical-align: middle;\n",
       "    }\n",
       "\n",
       "    .dataframe tbody tr th {\n",
       "        vertical-align: top;\n",
       "    }\n",
       "\n",
       "    .dataframe thead th {\n",
       "        text-align: right;\n",
       "    }\n",
       "</style>\n",
       "<table border=\"1\" class=\"dataframe\">\n",
       "  <thead>\n",
       "    <tr style=\"text-align: right;\">\n",
       "      <th></th>\n",
       "      <th>id_super</th>\n",
       "      <th>nombre</th>\n",
       "    </tr>\n",
       "  </thead>\n",
       "  <tbody>\n",
       "    <tr>\n",
       "      <th>0</th>\n",
       "      <td>1</td>\n",
       "      <td>alcampo</td>\n",
       "    </tr>\n",
       "    <tr>\n",
       "      <th>1</th>\n",
       "      <td>2</td>\n",
       "      <td>carrefour</td>\n",
       "    </tr>\n",
       "    <tr>\n",
       "      <th>2</th>\n",
       "      <td>3</td>\n",
       "      <td>dia</td>\n",
       "    </tr>\n",
       "    <tr>\n",
       "      <th>3</th>\n",
       "      <td>4</td>\n",
       "      <td>eroski</td>\n",
       "    </tr>\n",
       "    <tr>\n",
       "      <th>4</th>\n",
       "      <td>5</td>\n",
       "      <td>hipercor</td>\n",
       "    </tr>\n",
       "    <tr>\n",
       "      <th>5</th>\n",
       "      <td>6</td>\n",
       "      <td>mercadona</td>\n",
       "    </tr>\n",
       "  </tbody>\n",
       "</table>\n",
       "</div>"
      ],
      "text/plain": [
       "   id_super     nombre\n",
       "0         1    alcampo\n",
       "1         2  carrefour\n",
       "2         3        dia\n",
       "3         4     eroski\n",
       "4         5   hipercor\n",
       "5         6  mercadona"
      ]
     },
     "execution_count": 197,
     "metadata": {},
     "output_type": "execute_result"
    }
   ],
   "source": [
    "df_superm = pd.DataFrame(df_tablas[\"supermercado\"].unique())\n",
    "df_superm.reset_index(inplace=True)\n",
    "df_superm.rename(columns={'index':'id_super', 0:'nombre'}, inplace=True)\n",
    "df_superm[\"id_super\"]=df_superm[\"id_super\"].apply(lambda x: x+1)\n",
    "df_superm"
   ]
  },
  {
   "cell_type": "code",
   "execution_count": 198,
   "metadata": {},
   "outputs": [],
   "source": [
    "# df_superm.to_csv(\"../datos/tabla_superm.csv\")"
   ]
  },
  {
   "cell_type": "code",
   "execution_count": 199,
   "metadata": {},
   "outputs": [],
   "source": [
    "lista_tuplas_supermercados = []\n",
    "for fila in df_superm.values:\n",
    "    lista_tuplas_supermercados.append(tuple(fila))"
   ]
  },
  {
   "cell_type": "markdown",
   "metadata": {},
   "source": [
    "### Tabla histórico"
   ]
  },
  {
   "cell_type": "markdown",
   "metadata": {},
   "source": [
    "Incluimos los id del supermercado y producto que serán las claves foraneas:"
   ]
  },
  {
   "cell_type": "code",
   "execution_count": 200,
   "metadata": {},
   "outputs": [],
   "source": [
    "df_aux_historico = df_tablas.merge(right=df_superm, how='left', left_on ='supermercado', right_on=\"nombre\")\n",
    "df_aux_historico=df_aux_historico.drop(columns=[\"Unnamed: 0\", \"supermercado\", \"nombre\"])\n",
    "df_aux_historico_2 = df_aux_historico.merge(right=df_productos, how='left', left_on ='categoria_producto', right_on=\"nombre\")\n",
    "df_aux_historico_2 = df_aux_historico_2.drop(columns=[\"categoria_producto\", \"nombre\"])"
   ]
  },
  {
   "cell_type": "markdown",
   "metadata": {},
   "source": [
    "Reordenamos y borramos duplicados"
   ]
  },
  {
   "cell_type": "code",
   "execution_count": 201,
   "metadata": {},
   "outputs": [
    {
     "data": {
      "text/html": [
       "<div>\n",
       "<style scoped>\n",
       "    .dataframe tbody tr th:only-of-type {\n",
       "        vertical-align: middle;\n",
       "    }\n",
       "\n",
       "    .dataframe tbody tr th {\n",
       "        vertical-align: top;\n",
       "    }\n",
       "\n",
       "    .dataframe thead th {\n",
       "        text-align: right;\n",
       "    }\n",
       "</style>\n",
       "<table border=\"1\" class=\"dataframe\">\n",
       "  <thead>\n",
       "    <tr style=\"text-align: right;\">\n",
       "      <th></th>\n",
       "      <th>id_super</th>\n",
       "      <th>id_producto</th>\n",
       "      <th>nombre_producto</th>\n",
       "      <th>subcategoria</th>\n",
       "      <th>Día</th>\n",
       "      <th>Precio (€)</th>\n",
       "      <th>cantidad_variacion</th>\n",
       "      <th>porcentaje_variacion</th>\n",
       "    </tr>\n",
       "  </thead>\n",
       "  <tbody>\n",
       "    <tr>\n",
       "      <th>133073</th>\n",
       "      <td>5</td>\n",
       "      <td>1</td>\n",
       "      <td>la masia aceite de girasol garrafa de 5 l</td>\n",
       "      <td>NaN</td>\n",
       "      <td>2024-07-28</td>\n",
       "      <td>15.88</td>\n",
       "      <td>0.0</td>\n",
       "      <td>0.0</td>\n",
       "    </tr>\n",
       "    <tr>\n",
       "      <th>62595</th>\n",
       "      <td>2</td>\n",
       "      <td>1</td>\n",
       "      <td>priegola leche entera fresca 1 l</td>\n",
       "      <td>entera</td>\n",
       "      <td>2024-10-10</td>\n",
       "      <td>2.20</td>\n",
       "      <td>0.0</td>\n",
       "      <td>0.0</td>\n",
       "    </tr>\n",
       "    <tr>\n",
       "      <th>24455</th>\n",
       "      <td>1</td>\n",
       "      <td>1</td>\n",
       "      <td>lr leche semidesnatada de vaca sin lactosa 1l</td>\n",
       "      <td>semidesnatada</td>\n",
       "      <td>2024-09-21</td>\n",
       "      <td>0.87</td>\n",
       "      <td>0.0</td>\n",
       "      <td>0.0</td>\n",
       "    </tr>\n",
       "    <tr>\n",
       "      <th>29133</th>\n",
       "      <td>1</td>\n",
       "      <td>1</td>\n",
       "      <td>president leche entera de vaca de origen 100 e...</td>\n",
       "      <td>entera</td>\n",
       "      <td>2024-09-06</td>\n",
       "      <td>1.45</td>\n",
       "      <td>0.0</td>\n",
       "      <td>0.0</td>\n",
       "    </tr>\n",
       "    <tr>\n",
       "      <th>34283</th>\n",
       "      <td>2</td>\n",
       "      <td>1</td>\n",
       "      <td>producto alcampo aceite de girasol botella de 1 l</td>\n",
       "      <td>NaN</td>\n",
       "      <td>2024-07-08</td>\n",
       "      <td>1.45</td>\n",
       "      <td>0.0</td>\n",
       "      <td>0.0</td>\n",
       "    </tr>\n",
       "  </tbody>\n",
       "</table>\n",
       "</div>"
      ],
      "text/plain": [
       "        id_super  id_producto  \\\n",
       "133073         5            1   \n",
       "62595          2            1   \n",
       "24455          1            1   \n",
       "29133          1            1   \n",
       "34283          2            1   \n",
       "\n",
       "                                          nombre_producto   subcategoria  \\\n",
       "133073          la masia aceite de girasol garrafa de 5 l            NaN   \n",
       "62595                    priegola leche entera fresca 1 l         entera   \n",
       "24455       lr leche semidesnatada de vaca sin lactosa 1l  semidesnatada   \n",
       "29133   president leche entera de vaca de origen 100 e...         entera   \n",
       "34283   producto alcampo aceite de girasol botella de 1 l            NaN   \n",
       "\n",
       "               Día  Precio (€)  cantidad_variacion  porcentaje_variacion  \n",
       "133073  2024-07-28       15.88                 0.0                   0.0  \n",
       "62595   2024-10-10        2.20                 0.0                   0.0  \n",
       "24455   2024-09-21        0.87                 0.0                   0.0  \n",
       "29133   2024-09-06        1.45                 0.0                   0.0  \n",
       "34283   2024-07-08        1.45                 0.0                   0.0  "
      ]
     },
     "execution_count": 201,
     "metadata": {},
     "output_type": "execute_result"
    }
   ],
   "source": [
    "df_aux_historico_2 = df_aux_historico_2.reindex(columns=['id_super', 'id_producto', 'nombre_producto', 'subcategoria', 'Día', 'Precio (€)', 'cantidad_variacion', 'porcentaje_variacion'])\n",
    "df_aux_historico_2.drop_duplicates(inplace=True)\n",
    "df_historico = df_aux_historico_2\n",
    "df_historico.sample(5)"
   ]
  },
  {
   "cell_type": "code",
   "execution_count": 202,
   "metadata": {},
   "outputs": [],
   "source": [
    "# df_historico.to_csv(\"../datos/tabla_historico.csv\")"
   ]
  },
  {
   "cell_type": "code",
   "execution_count": 203,
   "metadata": {},
   "outputs": [],
   "source": [
    "lista_tuplas_historico = []\n",
    "for fila in df_historico.values:\n",
    "    lista_tuplas_historico.append(tuple(fila))"
   ]
  }
 ],
 "metadata": {
  "kernelspec": {
   "display_name": "Proyecto_Supermercados",
   "language": "python",
   "name": "python3"
  },
  "language_info": {
   "codemirror_mode": {
    "name": "ipython",
    "version": 3
   },
   "file_extension": ".py",
   "mimetype": "text/x-python",
   "name": "python",
   "nbconvert_exporter": "python",
   "pygments_lexer": "ipython3",
   "version": "3.12.7"
  }
 },
 "nbformat": 4,
 "nbformat_minor": 2
}
