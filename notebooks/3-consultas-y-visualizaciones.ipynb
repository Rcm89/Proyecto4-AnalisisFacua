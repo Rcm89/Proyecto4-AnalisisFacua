{
 "cells": [
  {
   "cell_type": "code",
   "execution_count": 1,
   "metadata": {},
   "outputs": [],
   "source": [
    "#Importamos las librerías que vamos a necesitar\n",
    "import pandas as pd\n",
    "import numpy as np\n",
    "import sys\n",
    "import warnings\n",
    "warnings.filterwarnings('ignore')"
   ]
  },
  {
   "cell_type": "code",
   "execution_count": 2,
   "metadata": {},
   "outputs": [
    {
     "data": {
      "text/plain": [
       "True"
      ]
     },
     "execution_count": 2,
     "metadata": {},
     "output_type": "execute_result"
    }
   ],
   "source": [
    "import os\n",
    "import dotenv\n",
    "dotenv.load_dotenv()"
   ]
  },
  {
   "cell_type": "code",
   "execution_count": 3,
   "metadata": {},
   "outputs": [],
   "source": [
    "# Librería para trabajar con bases de datos SQL\n",
    "import psycopg2\n",
    "from psycopg2 import OperationalError, errorcodes, errors"
   ]
  },
  {
   "cell_type": "code",
   "execution_count": null,
   "metadata": {},
   "outputs": [],
   "source": [
    "# Librerías para graficar\n",
    "import plotly.express as px\n",
    "import plotly.subplots as sp\n",
    "from plotly.subplots import make_subplots\n",
    "import plotly.graph_objects as go"
   ]
  },
  {
   "cell_type": "code",
   "execution_count": null,
   "metadata": {},
   "outputs": [],
   "source": []
  },
  {
   "cell_type": "markdown",
   "metadata": {},
   "source": [
    "Antes de meternos de lleno en las consultas y en las gráficas recordemos los objetivos del proyecto, para así poner en contexto nuestro análisis"
   ]
  },
  {
   "cell_type": "markdown",
   "metadata": {},
   "source": [
    "## Objetivo del analisis\n",
    "\n",
    "**1. Comparación de Precios entre Supermercados:** Determinar qué supermercados ofrecen los precios más bajos y cuáles son más caros para cada producto.\n",
    "\n",
    "**2. Análisis de la Evolución de Precios:** Estudiar cómo han cambiado los precios de los productos a lo largo del tiempo en distintos supermercados.\n",
    "\n",
    "**3. Detección de Anomalías:** Identificar subidas o bajadas de precios inusuales que podrían señalar prácticas abusivas o promociones.\n",
    "\n",
    "**4. Análisis de la Dispersión de Precios:** Evaluar la variabilidad de los precios de un mismo producto en diferentes supermercados.\n",
    "\n",
    "**5. Comparación de Precios Promedio:** Calcular y comparar los precios promedio de cada producto en diferentes supermercados."
   ]
  },
  {
   "cell_type": "markdown",
   "metadata": {},
   "source": [
    "Procedemos con nuestras consultas y visualizaciones de acuerdo a estos puntos."
   ]
  },
  {
   "cell_type": "code",
   "execution_count": 4,
   "metadata": {},
   "outputs": [],
   "source": [
    "key = os.getenv(\"token\")"
   ]
  },
  {
   "cell_type": "code",
   "execution_count": 5,
   "metadata": {},
   "outputs": [],
   "source": [
    "#En primer lugar nos conectamso a la base de datos\n",
    "\n",
    "def conexion_a_dbeaver(database):\n",
    "    \"\"\"\n",
    "    Establece una conexión a una base de datos DBeaver.\n",
    "\n",
    "    Args:\n",
    "        database (str): El nombre de la base de datos.\n",
    "\n",
    "    Returns:\n",
    "        conexion: Un objeto de conexión a la base de datos.\n",
    "    \"\"\"\n",
    "    try:\n",
    "        conexion = psycopg2.connect(\n",
    "            database=database,\n",
    "            user=\"postgres\",\n",
    "            password=key,\n",
    "            host=\"localhost\",\n",
    "            port=\"5432\"\n",
    "        )\n",
    "    except OperationalError as e:\n",
    "        if e.pgcode == errorcodes.INVALID_PASSWORD:\n",
    "            print(\"La contraseña intorducida es errónea\")\n",
    "        elif e.pgcode == errorcodes.CONNECTION_EXCEPTION:\n",
    "            print(\"Se ha producido un error de conexión\")\n",
    "        else:\n",
    "            print(f\"Ocurrió el error {e}\")\n",
    "    return conexion"
   ]
  },
  {
   "cell_type": "code",
   "execution_count": 6,
   "metadata": {},
   "outputs": [],
   "source": [
    "conexion=conexion_a_dbeaver(\"supermercados\")\n",
    "cursor=conexion.cursor()"
   ]
  },
  {
   "cell_type": "markdown",
   "metadata": {},
   "source": [
    "1.Evaluar la variabilidad de los precios de un mismo producto en diferentes supermercados."
   ]
  },
  {
   "cell_type": "code",
   "execution_count": 7,
   "metadata": {},
   "outputs": [],
   "source": [
    "query1 = \"\"\"\n",
    "SELECT \n",
    "    s.nombre AS supermercado,\n",
    "    tp.nombre AS producto,\n",
    "    MIN(h.\"precio\") AS precio_minimo,\n",
    "    MAX(h.\"precio\") AS precio_maximo\n",
    "FROM \n",
    "    historico h\n",
    "INNER JOIN \n",
    "    tipo_producto tp ON h.id_producto = tp.id_producto\n",
    "INNER JOIN \n",
    "    supermercado s ON h.id_super = s.id_super\n",
    "GROUP BY \n",
    "    s.nombre, tp.nombre\n",
    "ORDER BY \n",
    "    tp.nombre, precio_minimo;\n",
    "\"\"\""
   ]
  },
  {
   "cell_type": "code",
   "execution_count": 8,
   "metadata": {},
   "outputs": [],
   "source": [
    "cursor.execute(query1)"
   ]
  },
  {
   "cell_type": "code",
   "execution_count": 9,
   "metadata": {},
   "outputs": [],
   "source": [
    "resultado1 = cursor.fetchall()\n",
    "df_query1 = pd.DataFrame(resultado1)\n",
    "df_query1.columns = [col[0] for col in cursor.description]\n"
   ]
  },
  {
   "cell_type": "code",
   "execution_count": 10,
   "metadata": {},
   "outputs": [
    {
     "data": {
      "text/html": [
       "<div>\n",
       "<style scoped>\n",
       "    .dataframe tbody tr th:only-of-type {\n",
       "        vertical-align: middle;\n",
       "    }\n",
       "\n",
       "    .dataframe tbody tr th {\n",
       "        vertical-align: top;\n",
       "    }\n",
       "\n",
       "    .dataframe thead th {\n",
       "        text-align: right;\n",
       "    }\n",
       "</style>\n",
       "<table border=\"1\" class=\"dataframe\">\n",
       "  <thead>\n",
       "    <tr style=\"text-align: right;\">\n",
       "      <th></th>\n",
       "      <th>supermercado</th>\n",
       "      <th>producto</th>\n",
       "      <th>precio_minimo</th>\n",
       "      <th>precio_maximo</th>\n",
       "    </tr>\n",
       "  </thead>\n",
       "  <tbody>\n",
       "    <tr>\n",
       "      <th>0</th>\n",
       "      <td>alcampo</td>\n",
       "      <td>aceite de girasol</td>\n",
       "      <td>1.00</td>\n",
       "      <td>15.88</td>\n",
       "    </tr>\n",
       "    <tr>\n",
       "      <th>1</th>\n",
       "      <td>carrefour</td>\n",
       "      <td>aceite de girasol</td>\n",
       "      <td>1.00</td>\n",
       "      <td>15.88</td>\n",
       "    </tr>\n",
       "    <tr>\n",
       "      <th>2</th>\n",
       "      <td>dia</td>\n",
       "      <td>aceite de girasol</td>\n",
       "      <td>1.00</td>\n",
       "      <td>15.88</td>\n",
       "    </tr>\n",
       "    <tr>\n",
       "      <th>3</th>\n",
       "      <td>eroski</td>\n",
       "      <td>aceite de girasol</td>\n",
       "      <td>1.00</td>\n",
       "      <td>15.88</td>\n",
       "    </tr>\n",
       "    <tr>\n",
       "      <th>4</th>\n",
       "      <td>hipercor</td>\n",
       "      <td>aceite de girasol</td>\n",
       "      <td>1.00</td>\n",
       "      <td>15.88</td>\n",
       "    </tr>\n",
       "    <tr>\n",
       "      <th>5</th>\n",
       "      <td>mercadona</td>\n",
       "      <td>aceite de girasol</td>\n",
       "      <td>1.00</td>\n",
       "      <td>15.88</td>\n",
       "    </tr>\n",
       "    <tr>\n",
       "      <th>6</th>\n",
       "      <td>alcampo</td>\n",
       "      <td>aceite de oliva</td>\n",
       "      <td>2.83</td>\n",
       "      <td>62.99</td>\n",
       "    </tr>\n",
       "    <tr>\n",
       "      <th>7</th>\n",
       "      <td>carrefour</td>\n",
       "      <td>aceite de oliva</td>\n",
       "      <td>2.83</td>\n",
       "      <td>62.99</td>\n",
       "    </tr>\n",
       "    <tr>\n",
       "      <th>8</th>\n",
       "      <td>dia</td>\n",
       "      <td>aceite de oliva</td>\n",
       "      <td>2.83</td>\n",
       "      <td>62.99</td>\n",
       "    </tr>\n",
       "    <tr>\n",
       "      <th>9</th>\n",
       "      <td>eroski</td>\n",
       "      <td>aceite de oliva</td>\n",
       "      <td>2.83</td>\n",
       "      <td>62.99</td>\n",
       "    </tr>\n",
       "    <tr>\n",
       "      <th>10</th>\n",
       "      <td>hipercor</td>\n",
       "      <td>aceite de oliva</td>\n",
       "      <td>2.83</td>\n",
       "      <td>62.99</td>\n",
       "    </tr>\n",
       "    <tr>\n",
       "      <th>11</th>\n",
       "      <td>mercadona</td>\n",
       "      <td>aceite de oliva</td>\n",
       "      <td>2.83</td>\n",
       "      <td>62.99</td>\n",
       "    </tr>\n",
       "    <tr>\n",
       "      <th>12</th>\n",
       "      <td>alcampo</td>\n",
       "      <td>leche</td>\n",
       "      <td>0.50</td>\n",
       "      <td>23.43</td>\n",
       "    </tr>\n",
       "    <tr>\n",
       "      <th>13</th>\n",
       "      <td>carrefour</td>\n",
       "      <td>leche</td>\n",
       "      <td>0.50</td>\n",
       "      <td>23.43</td>\n",
       "    </tr>\n",
       "    <tr>\n",
       "      <th>14</th>\n",
       "      <td>dia</td>\n",
       "      <td>leche</td>\n",
       "      <td>0.50</td>\n",
       "      <td>23.43</td>\n",
       "    </tr>\n",
       "    <tr>\n",
       "      <th>15</th>\n",
       "      <td>eroski</td>\n",
       "      <td>leche</td>\n",
       "      <td>0.50</td>\n",
       "      <td>23.43</td>\n",
       "    </tr>\n",
       "    <tr>\n",
       "      <th>16</th>\n",
       "      <td>hipercor</td>\n",
       "      <td>leche</td>\n",
       "      <td>0.50</td>\n",
       "      <td>23.43</td>\n",
       "    </tr>\n",
       "    <tr>\n",
       "      <th>17</th>\n",
       "      <td>mercadona</td>\n",
       "      <td>leche</td>\n",
       "      <td>0.50</td>\n",
       "      <td>23.43</td>\n",
       "    </tr>\n",
       "  </tbody>\n",
       "</table>\n",
       "</div>"
      ],
      "text/plain": [
       "   supermercado           producto  precio_minimo  precio_maximo\n",
       "0       alcampo  aceite de girasol           1.00          15.88\n",
       "1     carrefour  aceite de girasol           1.00          15.88\n",
       "2           dia  aceite de girasol           1.00          15.88\n",
       "3        eroski  aceite de girasol           1.00          15.88\n",
       "4      hipercor  aceite de girasol           1.00          15.88\n",
       "5     mercadona  aceite de girasol           1.00          15.88\n",
       "6       alcampo    aceite de oliva           2.83          62.99\n",
       "7     carrefour    aceite de oliva           2.83          62.99\n",
       "8           dia    aceite de oliva           2.83          62.99\n",
       "9        eroski    aceite de oliva           2.83          62.99\n",
       "10     hipercor    aceite de oliva           2.83          62.99\n",
       "11    mercadona    aceite de oliva           2.83          62.99\n",
       "12      alcampo              leche           0.50          23.43\n",
       "13    carrefour              leche           0.50          23.43\n",
       "14          dia              leche           0.50          23.43\n",
       "15       eroski              leche           0.50          23.43\n",
       "16     hipercor              leche           0.50          23.43\n",
       "17    mercadona              leche           0.50          23.43"
      ]
     },
     "execution_count": 10,
     "metadata": {},
     "output_type": "execute_result"
    }
   ],
   "source": [
    "df_query1"
   ]
  }
 ],
 "metadata": {
  "kernelspec": {
   "display_name": "Proyecto_Supermercados",
   "language": "python",
   "name": "python3"
  },
  "language_info": {
   "codemirror_mode": {
    "name": "ipython",
    "version": 3
   },
   "file_extension": ".py",
   "mimetype": "text/x-python",
   "name": "python",
   "nbconvert_exporter": "python",
   "pygments_lexer": "ipython3",
   "version": "3.12.7"
  }
 },
 "nbformat": 4,
 "nbformat_minor": 2
}
