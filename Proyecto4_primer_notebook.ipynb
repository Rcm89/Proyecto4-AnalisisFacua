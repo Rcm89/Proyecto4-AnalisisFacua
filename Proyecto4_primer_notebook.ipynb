{
 "cells": [
  {
   "cell_type": "code",
   "execution_count": 8,
   "metadata": {},
   "outputs": [],
   "source": [
    "import pandas as pd\n",
    "import numpy as np\n",
    "from time import sleep\n",
    "import requests\n",
    "from bs4 import BeautifulSoup\n",
    "from tqdm import tqdm\n",
    "import os\n"
   ]
  },
  {
   "cell_type": "code",
   "execution_count": 9,
   "metadata": {},
   "outputs": [],
   "source": [
    "#Librerias de Selenium\n",
    "from selenium import webdriver\n",
    "from selenium.webdriver.support.ui import WebDriverWait\n",
    "from selenium.webdriver.common.by import By\n",
    "from selenium.webdriver.support import expected_conditions as EC"
   ]
  },
  {
   "cell_type": "code",
   "execution_count": 10,
   "metadata": {},
   "outputs": [],
   "source": [
    "#Hacemos que no muestre los warnings\n",
    "import warnings\n",
    "warnings.filterwarnings(\"ignore\")\n"
   ]
  },
  {
   "cell_type": "code",
   "execution_count": 11,
   "metadata": {},
   "outputs": [],
   "source": [
    "lista_supermercados= [\"mercadona\", \"carrefour\",\"eroski\", \"dia\", \"hipercor\", \"alcampo\"]\n",
    "lista_productos=[\"aceite-de-girasol\", \"aceite-de-oliva\", \"leche\"]"
   ]
  },
  {
   "cell_type": "code",
   "execution_count": 12,
   "metadata": {},
   "outputs": [],
   "source": [
    "def esperar_y_hacer_click(drivers, ruta_xpath):\n",
    "    \"\"\"\n",
    "    Espera hasta que un elemento esté presente en la página y realiza un clic en él.\n",
    "\n",
    "    Args:\n",
    "        drivers (WebDriver): El objeto del navegador (WebDriver) que está siendo utilizado para controlar la página.\n",
    "        ruta_xpath (str): El XPath del elemento que se está buscando en la página.\n",
    "\n",
    "    Returns:\n",
    "        WebElement: El botón o elemento sobre el cual se hizo clic. Retorna `None` si el elemento no se encuentra después de 5 intentos.\n",
    "    \"\"\"\n",
    "    \n",
    "    boton = None\n",
    "    intentos = 0\n",
    "    while True and intentos <= 5:\n",
    "        try:\n",
    "            boton = WebDriverWait(drivers, 10).until(EC.presence_of_element_located((\"xpath\", ruta_xpath)))\n",
    "            sleep(2)\n",
    "            boton.click()\n",
    "            break\n",
    "        except Exception as e:\n",
    "            intentos += 1\n",
    "            print(f\"Intento {intentos}: No se ha podido encontrar el botón. Error: {e}\")\n",
    "            continue\n",
    "    \n",
    "    return boton"
   ]
  },
  {
   "cell_type": "code",
   "execution_count": 13,
   "metadata": {},
   "outputs": [
    {
     "data": {
      "text/plain": [
       "<table class=\"table table-striped table-responsive text-center\" style=\"width:100%\"><thead><tr><th scope=\"col\">Día</th><th scope=\"col\">Precio (€)</th><th scope=\"col\">Variación</th></tr></thead><tbody><tr><td>12/07/2024</td><td>1,45</td><td>=</td></tr><tr><td>13/07/2024</td><td>1,45</td><td>=</td></tr><tr><td>14/07/2024</td><td>1,45</td><td>=</td></tr><tr><td>15/07/2024</td><td>1,45</td><td>=</td></tr><tr><td>16/07/2024</td><td>1,45</td><td>=</td></tr><tr><td>17/07/2024</td><td>1,45</td><td>=</td></tr><tr><td>18/07/2024</td><td>1,45</td><td>=</td></tr><tr><td>19/07/2024</td><td>1,45</td><td>=</td></tr><tr><td>20/07/2024</td><td>1,45</td><td>=</td></tr><tr><td>21/07/2024</td><td>1,45</td><td>=</td></tr><tr><td>22/07/2024</td><td>1,45</td><td>=</td></tr><tr><td>23/07/2024</td><td>1,45</td><td>=</td></tr><tr><td>24/07/2024</td><td>1,45</td><td>=</td></tr><tr><td>25/07/2024</td><td>1,45</td><td>=</td></tr><tr><td>26/07/2024</td><td>1,45</td><td>=</td></tr><tr><td>27/07/2024</td><td>1,45</td><td>=</td></tr><tr><td>28/07/2024</td><td>1,45</td><td>=</td></tr><tr><td>29/07/2024</td><td>1,45</td><td>=</td></tr><tr><td>30/07/2024</td><td>1,45</td><td>=</td></tr><tr><td>31/07/2024</td><td>1,45</td><td>=</td></tr><tr><td>01/08/2024</td><td>1,45</td><td>=</td></tr><tr><td>02/08/2024</td><td>1,45</td><td>=</td></tr><tr><td>03/08/2024</td><td>1,45</td><td>=</td></tr><tr><td>04/08/2024</td><td>1,45</td><td>=</td></tr><tr><td>05/08/2024</td><td>1,45</td><td>=</td></tr><tr><td>06/08/2024</td><td>1,45</td><td>=</td></tr><tr><td>07/08/2024</td><td>1,45</td><td>=</td></tr><tr><td>08/08/2024</td><td>1,45</td><td>=</td></tr><tr><td>09/08/2024</td><td>1,45</td><td>=</td></tr><tr><td>10/08/2024</td><td>1,45</td><td>=</td></tr><tr><td>11/08/2024</td><td>1,45</td><td>=</td></tr><tr><td>12/08/2024</td><td>1,45</td><td>=</td></tr><tr><td>13/08/2024</td><td>1,45</td><td>=</td></tr><tr><td>14/08/2024</td><td>1,45</td><td>=</td></tr><tr><td>15/08/2024</td><td>1,45</td><td>=</td></tr><tr><td>16/08/2024</td><td>1,45</td><td>=</td></tr><tr><td>17/08/2024</td><td>1,45</td><td>=</td></tr><tr><td>18/08/2024</td><td>1,45</td><td>=</td></tr><tr><td>19/08/2024</td><td>1,45</td><td>=</td></tr><tr><td>20/08/2024</td><td>1,45</td><td>=</td></tr><tr><td>21/08/2024</td><td>1,45</td><td>=</td></tr><tr><td>22/08/2024</td><td>1,45</td><td>=</td></tr><tr><td>23/08/2024</td><td>1,45</td><td>=</td></tr><tr><td>24/08/2024</td><td>1,45</td><td>=</td></tr><tr><td>25/08/2024</td><td>1,45</td><td>=</td></tr><tr><td>26/08/2024</td><td>1,45</td><td>=</td></tr><tr><td>27/08/2024</td><td>1,45</td><td>=</td></tr><tr><td>28/08/2024</td><td>1,45</td><td>=</td></tr><tr><td>29/08/2024</td><td>1,45</td><td>=</td></tr><tr><td>30/08/2024</td><td>1,45</td><td>=</td></tr><tr><td>31/08/2024</td><td>1,45</td><td>=</td></tr><tr><td>01/09/2024</td><td>1,45</td><td>=</td></tr><tr><td>02/09/2024</td><td>1,45</td><td>=</td></tr><tr><td>03/09/2024</td><td>1,45</td><td>=</td></tr><tr><td>04/09/2024</td><td>1,45</td><td>=</td></tr><tr><td>05/09/2024</td><td>1,45</td><td>=</td></tr><tr><td>06/09/2024</td><td>1,45</td><td>=</td></tr><tr><td>07/09/2024</td><td>1,45</td><td>=</td></tr><tr><td>08/09/2024</td><td>1,45</td><td>=</td></tr><tr><td>09/09/2024</td><td>1,45</td><td>=</td></tr><tr><td>10/09/2024</td><td>1,45</td><td>=</td></tr><tr><td>11/09/2024</td><td>1,45</td><td>=</td></tr><tr><td>12/09/2024</td><td>1,45</td><td>=</td></tr><tr><td>13/09/2024</td><td>1,45</td><td>=</td></tr><tr><td>14/09/2024</td><td>1,45</td><td>=</td></tr><tr><td>15/09/2024</td><td>1,45</td><td>=</td></tr><tr><td>16/09/2024</td><td>1,45</td><td>=</td></tr><tr><td>17/09/2024</td><td>1,45</td><td>=</td></tr><tr><td>18/09/2024</td><td>1,45</td><td>=</td></tr><tr><td>19/09/2024</td><td>1,45</td><td>=</td></tr><tr><td>20/09/2024</td><td>1,45</td><td>=</td></tr><tr><td>21/09/2024</td><td>1,45</td><td>=</td></tr><tr><td>22/09/2024</td><td>1,45</td><td>=</td></tr><tr><td>23/09/2024</td><td>1,45</td><td>=</td></tr><tr><td>24/09/2024</td><td>1,45</td><td>=</td></tr><tr><td>25/09/2024</td><td>1,45</td><td>=</td></tr><tr><td>26/09/2024</td><td>1,45</td><td>=</td></tr><tr><td>27/09/2024</td><td>1,45</td><td>=</td></tr><tr><td>28/09/2024</td><td>1,45</td><td>=</td></tr><tr><td>29/09/2024</td><td>1,45</td><td>=</td></tr><tr><td>30/09/2024</td><td>1,45</td><td>=</td></tr><tr><td>01/10/2024</td><td>1,48</td><td style=\"color: green;\">+0,03 (2,07%)</td></tr><tr><td>02/10/2024</td><td>1,48</td><td>=</td></tr><tr><td>03/10/2024</td><td>1,48</td><td>=</td></tr><tr><td>04/10/2024</td><td>1,48</td><td>=</td></tr><tr><td>05/10/2024</td><td>1,48</td><td>=</td></tr><tr><td>06/10/2024</td><td>1,48</td><td>=</td></tr><tr><td>07/10/2024</td><td>1,48</td><td>=</td></tr><tr><td>08/10/2024</td><td>1,48</td><td>=</td></tr><tr><td>09/10/2024</td><td>1,48</td><td>=</td></tr><tr><td>10/10/2024</td><td>1,48</td><td>=</td></tr><tr><td>11/10/2024</td><td>1,48</td><td>=</td></tr><tr><td>12/10/2024</td><td>1,48</td><td>=</td></tr><tr><td>13/10/2024</td><td>1,48</td><td>=</td></tr><tr><td>14/10/2024</td><td>1,48</td><td>=</td></tr><tr><td>15/10/2024</td><td>1,48</td><td>=</td></tr><tr><td>16/10/2024</td><td>1,48</td><td>=</td></tr><tr><td>17/10/2024</td><td>1,48</td><td>=</td></tr><tr><td>18/10/2024</td><td>1,48</td><td>=</td></tr><tr><td>19/10/2024</td><td>1,48</td><td>=</td></tr><tr><td>20/10/2024</td><td>1,48</td><td>=</td></tr><tr><td>21/10/2024</td><td>1,48</td><td>=</td></tr><tr><td>22/10/2024</td><td>1,48</td><td>=</td></tr><tr><td>23/10/2024</td><td>1,48</td><td>=</td></tr><tr><td>24/10/2024</td><td>1,48</td><td>=</td></tr><tr><td>25/10/2024</td><td>1,48</td><td>=</td></tr></tbody></table>"
      ]
     },
     "execution_count": 13,
     "metadata": {},
     "output_type": "execute_result"
    }
   ],
   "source": [
    "driver = webdriver.Chrome()\n",
    "\n",
    "url = f\"https://super.facua.org/{lista_supermercados[0]}/{lista_productos[0]}\"\n",
    "driver.get(url)\n",
    "driver.maximize_window()\n",
    "sleep(2)\n",
    "# Acceptamso cookies\n",
    "esperar_y_hacer_click(driver, '//*[@id=\"rcc-confirm-button\"]')\n",
    "driver.execute_script(\"window.scrollTo(0, 300)\")\n",
    "# Entramos en los aceites de girasol\n",
    "esperar_y_hacer_click(driver, '/html/body/section[1]/div/div[3]/div[1]/div/div[2]/div/a')\n",
    "# Extraemos informacion html\n",
    "sleep(1)\n",
    "contenido_html = driver.page_source\n",
    "#driver.close()\n",
    "sopa = BeautifulSoup(contenido_html, 'html.parser')\n",
    "tabla = sopa.find(\"table\")\n",
    "tabla\n",
    "    "
   ]
  },
  {
   "cell_type": "markdown",
   "metadata": {},
   "source": [
    "## Lo estas enfocando de manera muy poco eficaz. Saca las URL de cada producto. Y escrapea la tabla correspondiente. Una vez que tienes la tabla escrapea (usando la url) el nombre de cada producto haz lo mismo con las categorias y sub categorias (girasol, oliva, oliva virgen, etc) y con eso te construyes la  base de datos"
   ]
  },
  {
   "cell_type": "code",
   "execution_count": 14,
   "metadata": {},
   "outputs": [],
   "source": [
    "lista_encabezados = tabla.findAll(\"th\")"
   ]
  },
  {
   "cell_type": "code",
   "execution_count": 15,
   "metadata": {},
   "outputs": [
    {
     "data": {
      "text/plain": [
       "[<th scope=\"col\">Día</th>,\n",
       " <th scope=\"col\">Precio (€)</th>,\n",
       " <th scope=\"col\">Variación</th>]"
      ]
     },
     "execution_count": 15,
     "metadata": {},
     "output_type": "execute_result"
    }
   ],
   "source": [
    "lista_encabezados"
   ]
  },
  {
   "cell_type": "code",
   "execution_count": 16,
   "metadata": {},
   "outputs": [
    {
     "name": "stdout",
     "output_type": "stream",
     "text": [
      "El encabezado 1 es: Día\n",
      "El encabezado 2 es: Precio (€)\n",
      "El encabezado 3 es: Variación\n"
     ]
    }
   ],
   "source": [
    "for i, encabezado in enumerate(lista_encabezados):\n",
    "    print(f\"El encabezado {i+1} es: {encabezado.getText()}\")"
   ]
  },
  {
   "cell_type": "code",
   "execution_count": 17,
   "metadata": {},
   "outputs": [],
   "source": [
    "lista_filas = tabla.findAll(\"tr\")"
   ]
  },
  {
   "cell_type": "code",
   "execution_count": 18,
   "metadata": {},
   "outputs": [
    {
     "data": {
      "text/plain": [
       "[<tr><th scope=\"col\">Día</th><th scope=\"col\">Precio (€)</th><th scope=\"col\">Variación</th></tr>,\n",
       " <tr><td>12/07/2024</td><td>1,45</td><td>=</td></tr>,\n",
       " <tr><td>13/07/2024</td><td>1,45</td><td>=</td></tr>,\n",
       " <tr><td>14/07/2024</td><td>1,45</td><td>=</td></tr>,\n",
       " <tr><td>15/07/2024</td><td>1,45</td><td>=</td></tr>,\n",
       " <tr><td>16/07/2024</td><td>1,45</td><td>=</td></tr>,\n",
       " <tr><td>17/07/2024</td><td>1,45</td><td>=</td></tr>,\n",
       " <tr><td>18/07/2024</td><td>1,45</td><td>=</td></tr>,\n",
       " <tr><td>19/07/2024</td><td>1,45</td><td>=</td></tr>,\n",
       " <tr><td>20/07/2024</td><td>1,45</td><td>=</td></tr>,\n",
       " <tr><td>21/07/2024</td><td>1,45</td><td>=</td></tr>,\n",
       " <tr><td>22/07/2024</td><td>1,45</td><td>=</td></tr>,\n",
       " <tr><td>23/07/2024</td><td>1,45</td><td>=</td></tr>,\n",
       " <tr><td>24/07/2024</td><td>1,45</td><td>=</td></tr>,\n",
       " <tr><td>25/07/2024</td><td>1,45</td><td>=</td></tr>,\n",
       " <tr><td>26/07/2024</td><td>1,45</td><td>=</td></tr>,\n",
       " <tr><td>27/07/2024</td><td>1,45</td><td>=</td></tr>,\n",
       " <tr><td>28/07/2024</td><td>1,45</td><td>=</td></tr>,\n",
       " <tr><td>29/07/2024</td><td>1,45</td><td>=</td></tr>,\n",
       " <tr><td>30/07/2024</td><td>1,45</td><td>=</td></tr>,\n",
       " <tr><td>31/07/2024</td><td>1,45</td><td>=</td></tr>,\n",
       " <tr><td>01/08/2024</td><td>1,45</td><td>=</td></tr>,\n",
       " <tr><td>02/08/2024</td><td>1,45</td><td>=</td></tr>,\n",
       " <tr><td>03/08/2024</td><td>1,45</td><td>=</td></tr>,\n",
       " <tr><td>04/08/2024</td><td>1,45</td><td>=</td></tr>,\n",
       " <tr><td>05/08/2024</td><td>1,45</td><td>=</td></tr>,\n",
       " <tr><td>06/08/2024</td><td>1,45</td><td>=</td></tr>,\n",
       " <tr><td>07/08/2024</td><td>1,45</td><td>=</td></tr>,\n",
       " <tr><td>08/08/2024</td><td>1,45</td><td>=</td></tr>,\n",
       " <tr><td>09/08/2024</td><td>1,45</td><td>=</td></tr>,\n",
       " <tr><td>10/08/2024</td><td>1,45</td><td>=</td></tr>,\n",
       " <tr><td>11/08/2024</td><td>1,45</td><td>=</td></tr>,\n",
       " <tr><td>12/08/2024</td><td>1,45</td><td>=</td></tr>,\n",
       " <tr><td>13/08/2024</td><td>1,45</td><td>=</td></tr>,\n",
       " <tr><td>14/08/2024</td><td>1,45</td><td>=</td></tr>,\n",
       " <tr><td>15/08/2024</td><td>1,45</td><td>=</td></tr>,\n",
       " <tr><td>16/08/2024</td><td>1,45</td><td>=</td></tr>,\n",
       " <tr><td>17/08/2024</td><td>1,45</td><td>=</td></tr>,\n",
       " <tr><td>18/08/2024</td><td>1,45</td><td>=</td></tr>,\n",
       " <tr><td>19/08/2024</td><td>1,45</td><td>=</td></tr>,\n",
       " <tr><td>20/08/2024</td><td>1,45</td><td>=</td></tr>,\n",
       " <tr><td>21/08/2024</td><td>1,45</td><td>=</td></tr>,\n",
       " <tr><td>22/08/2024</td><td>1,45</td><td>=</td></tr>,\n",
       " <tr><td>23/08/2024</td><td>1,45</td><td>=</td></tr>,\n",
       " <tr><td>24/08/2024</td><td>1,45</td><td>=</td></tr>,\n",
       " <tr><td>25/08/2024</td><td>1,45</td><td>=</td></tr>,\n",
       " <tr><td>26/08/2024</td><td>1,45</td><td>=</td></tr>,\n",
       " <tr><td>27/08/2024</td><td>1,45</td><td>=</td></tr>,\n",
       " <tr><td>28/08/2024</td><td>1,45</td><td>=</td></tr>,\n",
       " <tr><td>29/08/2024</td><td>1,45</td><td>=</td></tr>,\n",
       " <tr><td>30/08/2024</td><td>1,45</td><td>=</td></tr>,\n",
       " <tr><td>31/08/2024</td><td>1,45</td><td>=</td></tr>,\n",
       " <tr><td>01/09/2024</td><td>1,45</td><td>=</td></tr>,\n",
       " <tr><td>02/09/2024</td><td>1,45</td><td>=</td></tr>,\n",
       " <tr><td>03/09/2024</td><td>1,45</td><td>=</td></tr>,\n",
       " <tr><td>04/09/2024</td><td>1,45</td><td>=</td></tr>,\n",
       " <tr><td>05/09/2024</td><td>1,45</td><td>=</td></tr>,\n",
       " <tr><td>06/09/2024</td><td>1,45</td><td>=</td></tr>,\n",
       " <tr><td>07/09/2024</td><td>1,45</td><td>=</td></tr>,\n",
       " <tr><td>08/09/2024</td><td>1,45</td><td>=</td></tr>,\n",
       " <tr><td>09/09/2024</td><td>1,45</td><td>=</td></tr>,\n",
       " <tr><td>10/09/2024</td><td>1,45</td><td>=</td></tr>,\n",
       " <tr><td>11/09/2024</td><td>1,45</td><td>=</td></tr>,\n",
       " <tr><td>12/09/2024</td><td>1,45</td><td>=</td></tr>,\n",
       " <tr><td>13/09/2024</td><td>1,45</td><td>=</td></tr>,\n",
       " <tr><td>14/09/2024</td><td>1,45</td><td>=</td></tr>,\n",
       " <tr><td>15/09/2024</td><td>1,45</td><td>=</td></tr>,\n",
       " <tr><td>16/09/2024</td><td>1,45</td><td>=</td></tr>,\n",
       " <tr><td>17/09/2024</td><td>1,45</td><td>=</td></tr>,\n",
       " <tr><td>18/09/2024</td><td>1,45</td><td>=</td></tr>,\n",
       " <tr><td>19/09/2024</td><td>1,45</td><td>=</td></tr>,\n",
       " <tr><td>20/09/2024</td><td>1,45</td><td>=</td></tr>,\n",
       " <tr><td>21/09/2024</td><td>1,45</td><td>=</td></tr>,\n",
       " <tr><td>22/09/2024</td><td>1,45</td><td>=</td></tr>,\n",
       " <tr><td>23/09/2024</td><td>1,45</td><td>=</td></tr>,\n",
       " <tr><td>24/09/2024</td><td>1,45</td><td>=</td></tr>,\n",
       " <tr><td>25/09/2024</td><td>1,45</td><td>=</td></tr>,\n",
       " <tr><td>26/09/2024</td><td>1,45</td><td>=</td></tr>,\n",
       " <tr><td>27/09/2024</td><td>1,45</td><td>=</td></tr>,\n",
       " <tr><td>28/09/2024</td><td>1,45</td><td>=</td></tr>,\n",
       " <tr><td>29/09/2024</td><td>1,45</td><td>=</td></tr>,\n",
       " <tr><td>30/09/2024</td><td>1,45</td><td>=</td></tr>,\n",
       " <tr><td>01/10/2024</td><td>1,48</td><td style=\"color: green;\">+0,03 (2,07%)</td></tr>,\n",
       " <tr><td>02/10/2024</td><td>1,48</td><td>=</td></tr>,\n",
       " <tr><td>03/10/2024</td><td>1,48</td><td>=</td></tr>,\n",
       " <tr><td>04/10/2024</td><td>1,48</td><td>=</td></tr>,\n",
       " <tr><td>05/10/2024</td><td>1,48</td><td>=</td></tr>,\n",
       " <tr><td>06/10/2024</td><td>1,48</td><td>=</td></tr>,\n",
       " <tr><td>07/10/2024</td><td>1,48</td><td>=</td></tr>,\n",
       " <tr><td>08/10/2024</td><td>1,48</td><td>=</td></tr>,\n",
       " <tr><td>09/10/2024</td><td>1,48</td><td>=</td></tr>,\n",
       " <tr><td>10/10/2024</td><td>1,48</td><td>=</td></tr>,\n",
       " <tr><td>11/10/2024</td><td>1,48</td><td>=</td></tr>,\n",
       " <tr><td>12/10/2024</td><td>1,48</td><td>=</td></tr>,\n",
       " <tr><td>13/10/2024</td><td>1,48</td><td>=</td></tr>,\n",
       " <tr><td>14/10/2024</td><td>1,48</td><td>=</td></tr>,\n",
       " <tr><td>15/10/2024</td><td>1,48</td><td>=</td></tr>,\n",
       " <tr><td>16/10/2024</td><td>1,48</td><td>=</td></tr>,\n",
       " <tr><td>17/10/2024</td><td>1,48</td><td>=</td></tr>,\n",
       " <tr><td>18/10/2024</td><td>1,48</td><td>=</td></tr>,\n",
       " <tr><td>19/10/2024</td><td>1,48</td><td>=</td></tr>,\n",
       " <tr><td>20/10/2024</td><td>1,48</td><td>=</td></tr>,\n",
       " <tr><td>21/10/2024</td><td>1,48</td><td>=</td></tr>,\n",
       " <tr><td>22/10/2024</td><td>1,48</td><td>=</td></tr>,\n",
       " <tr><td>23/10/2024</td><td>1,48</td><td>=</td></tr>,\n",
       " <tr><td>24/10/2024</td><td>1,48</td><td>=</td></tr>,\n",
       " <tr><td>25/10/2024</td><td>1,48</td><td>=</td></tr>]"
      ]
     },
     "execution_count": 18,
     "metadata": {},
     "output_type": "execute_result"
    }
   ],
   "source": [
    "lista_filas"
   ]
  },
  {
   "cell_type": "code",
   "execution_count": 19,
   "metadata": {},
   "outputs": [
    {
     "data": {
      "text/plain": [
       "[['12/07/2024', '1.45', '='],\n",
       " ['13/07/2024', '1.45', '='],\n",
       " ['14/07/2024', '1.45', '='],\n",
       " ['15/07/2024', '1.45', '='],\n",
       " ['16/07/2024', '1.45', '='],\n",
       " ['17/07/2024', '1.45', '='],\n",
       " ['18/07/2024', '1.45', '='],\n",
       " ['19/07/2024', '1.45', '='],\n",
       " ['20/07/2024', '1.45', '='],\n",
       " ['21/07/2024', '1.45', '='],\n",
       " ['22/07/2024', '1.45', '='],\n",
       " ['23/07/2024', '1.45', '='],\n",
       " ['24/07/2024', '1.45', '='],\n",
       " ['25/07/2024', '1.45', '='],\n",
       " ['26/07/2024', '1.45', '='],\n",
       " ['27/07/2024', '1.45', '='],\n",
       " ['28/07/2024', '1.45', '='],\n",
       " ['29/07/2024', '1.45', '='],\n",
       " ['30/07/2024', '1.45', '='],\n",
       " ['31/07/2024', '1.45', '='],\n",
       " ['01/08/2024', '1.45', '='],\n",
       " ['02/08/2024', '1.45', '='],\n",
       " ['03/08/2024', '1.45', '='],\n",
       " ['04/08/2024', '1.45', '='],\n",
       " ['05/08/2024', '1.45', '='],\n",
       " ['06/08/2024', '1.45', '='],\n",
       " ['07/08/2024', '1.45', '='],\n",
       " ['08/08/2024', '1.45', '='],\n",
       " ['09/08/2024', '1.45', '='],\n",
       " ['10/08/2024', '1.45', '='],\n",
       " ['11/08/2024', '1.45', '='],\n",
       " ['12/08/2024', '1.45', '='],\n",
       " ['13/08/2024', '1.45', '='],\n",
       " ['14/08/2024', '1.45', '='],\n",
       " ['15/08/2024', '1.45', '='],\n",
       " ['16/08/2024', '1.45', '='],\n",
       " ['17/08/2024', '1.45', '='],\n",
       " ['18/08/2024', '1.45', '='],\n",
       " ['19/08/2024', '1.45', '='],\n",
       " ['20/08/2024', '1.45', '='],\n",
       " ['21/08/2024', '1.45', '='],\n",
       " ['22/08/2024', '1.45', '='],\n",
       " ['23/08/2024', '1.45', '='],\n",
       " ['24/08/2024', '1.45', '='],\n",
       " ['25/08/2024', '1.45', '='],\n",
       " ['26/08/2024', '1.45', '='],\n",
       " ['27/08/2024', '1.45', '='],\n",
       " ['28/08/2024', '1.45', '='],\n",
       " ['29/08/2024', '1.45', '='],\n",
       " ['30/08/2024', '1.45', '='],\n",
       " ['31/08/2024', '1.45', '='],\n",
       " ['01/09/2024', '1.45', '='],\n",
       " ['02/09/2024', '1.45', '='],\n",
       " ['03/09/2024', '1.45', '='],\n",
       " ['04/09/2024', '1.45', '='],\n",
       " ['05/09/2024', '1.45', '='],\n",
       " ['06/09/2024', '1.45', '='],\n",
       " ['07/09/2024', '1.45', '='],\n",
       " ['08/09/2024', '1.45', '='],\n",
       " ['09/09/2024', '1.45', '='],\n",
       " ['10/09/2024', '1.45', '='],\n",
       " ['11/09/2024', '1.45', '='],\n",
       " ['12/09/2024', '1.45', '='],\n",
       " ['13/09/2024', '1.45', '='],\n",
       " ['14/09/2024', '1.45', '='],\n",
       " ['15/09/2024', '1.45', '='],\n",
       " ['16/09/2024', '1.45', '='],\n",
       " ['17/09/2024', '1.45', '='],\n",
       " ['18/09/2024', '1.45', '='],\n",
       " ['19/09/2024', '1.45', '='],\n",
       " ['20/09/2024', '1.45', '='],\n",
       " ['21/09/2024', '1.45', '='],\n",
       " ['22/09/2024', '1.45', '='],\n",
       " ['23/09/2024', '1.45', '='],\n",
       " ['24/09/2024', '1.45', '='],\n",
       " ['25/09/2024', '1.45', '='],\n",
       " ['26/09/2024', '1.45', '='],\n",
       " ['27/09/2024', '1.45', '='],\n",
       " ['28/09/2024', '1.45', '='],\n",
       " ['29/09/2024', '1.45', '='],\n",
       " ['30/09/2024', '1.45', '='],\n",
       " ['01/10/2024', '1.48', '+0,03 (2,07%)'],\n",
       " ['02/10/2024', '1.48', '='],\n",
       " ['03/10/2024', '1.48', '='],\n",
       " ['04/10/2024', '1.48', '='],\n",
       " ['05/10/2024', '1.48', '='],\n",
       " ['06/10/2024', '1.48', '='],\n",
       " ['07/10/2024', '1.48', '='],\n",
       " ['08/10/2024', '1.48', '='],\n",
       " ['09/10/2024', '1.48', '='],\n",
       " ['10/10/2024', '1.48', '='],\n",
       " ['11/10/2024', '1.48', '='],\n",
       " ['12/10/2024', '1.48', '='],\n",
       " ['13/10/2024', '1.48', '='],\n",
       " ['14/10/2024', '1.48', '='],\n",
       " ['15/10/2024', '1.48', '='],\n",
       " ['16/10/2024', '1.48', '='],\n",
       " ['17/10/2024', '1.48', '='],\n",
       " ['18/10/2024', '1.48', '='],\n",
       " ['19/10/2024', '1.48', '='],\n",
       " ['20/10/2024', '1.48', '='],\n",
       " ['21/10/2024', '1.48', '='],\n",
       " ['22/10/2024', '1.48', '='],\n",
       " ['23/10/2024', '1.48', '='],\n",
       " ['24/10/2024', '1.48', '='],\n",
       " ['25/10/2024', '1.48', '=']]"
      ]
     },
     "execution_count": 19,
     "metadata": {},
     "output_type": "execute_result"
    }
   ],
   "source": [
    "lista_filas = lista_filas[1:]\n",
    "datos_tabla = []\n",
    "for fila in lista_filas:\n",
    "    # Usamos BeautifulSoup para convertir cada fila en una estructura de HTML\n",
    "    fila_bs = BeautifulSoup(str(fila), 'html.parser')\n",
    "    celdas = fila_bs.find_all('td')\n",
    "    # Extraemos el texto de cada celda y lo añadimos a la lista\n",
    "    datos_tabla.append([celdas[0].text, celdas[1].text.replace(',', '.'), celdas[2].text])\n",
    "    \n",
    "datos_tabla\n",
    "\n"
   ]
  },
  {
   "cell_type": "code",
   "execution_count": 20,
   "metadata": {},
   "outputs": [
    {
     "data": {
      "text/plain": [
       "[<th scope=\"col\">Día</th>,\n",
       " <th scope=\"col\">Precio (€)</th>,\n",
       " <th scope=\"col\">Variación</th>]"
      ]
     },
     "execution_count": 20,
     "metadata": {},
     "output_type": "execute_result"
    }
   ],
   "source": [
    "lista_encabezados"
   ]
  },
  {
   "cell_type": "code",
   "execution_count": 21,
   "metadata": {},
   "outputs": [
    {
     "data": {
      "text/plain": [
       "['Día', 'Precio (€)', 'Variación']"
      ]
     },
     "execution_count": 21,
     "metadata": {},
     "output_type": "execute_result"
    }
   ],
   "source": [
    "# Extraemos el texto de cada elemento <th>\n",
    "encabezados = [BeautifulSoup(str(th), 'html.parser').text for th in lista_encabezados]\n",
    "\n",
    "# Mostramos la lista de encabezados\n",
    "encabezados\n"
   ]
  },
  {
   "cell_type": "code",
   "execution_count": 22,
   "metadata": {},
   "outputs": [
    {
     "data": {
      "text/html": [
       "<div>\n",
       "<style scoped>\n",
       "    .dataframe tbody tr th:only-of-type {\n",
       "        vertical-align: middle;\n",
       "    }\n",
       "\n",
       "    .dataframe tbody tr th {\n",
       "        vertical-align: top;\n",
       "    }\n",
       "\n",
       "    .dataframe thead th {\n",
       "        text-align: right;\n",
       "    }\n",
       "</style>\n",
       "<table border=\"1\" class=\"dataframe\">\n",
       "  <thead>\n",
       "    <tr style=\"text-align: right;\">\n",
       "      <th></th>\n",
       "      <th>Día</th>\n",
       "      <th>Precio (€)</th>\n",
       "      <th>Variación</th>\n",
       "    </tr>\n",
       "  </thead>\n",
       "  <tbody>\n",
       "    <tr>\n",
       "      <th>0</th>\n",
       "      <td>12/07/2024</td>\n",
       "      <td>1.45</td>\n",
       "      <td>=</td>\n",
       "    </tr>\n",
       "    <tr>\n",
       "      <th>1</th>\n",
       "      <td>13/07/2024</td>\n",
       "      <td>1.45</td>\n",
       "      <td>=</td>\n",
       "    </tr>\n",
       "    <tr>\n",
       "      <th>2</th>\n",
       "      <td>14/07/2024</td>\n",
       "      <td>1.45</td>\n",
       "      <td>=</td>\n",
       "    </tr>\n",
       "    <tr>\n",
       "      <th>3</th>\n",
       "      <td>15/07/2024</td>\n",
       "      <td>1.45</td>\n",
       "      <td>=</td>\n",
       "    </tr>\n",
       "    <tr>\n",
       "      <th>4</th>\n",
       "      <td>16/07/2024</td>\n",
       "      <td>1.45</td>\n",
       "      <td>=</td>\n",
       "    </tr>\n",
       "    <tr>\n",
       "      <th>...</th>\n",
       "      <td>...</td>\n",
       "      <td>...</td>\n",
       "      <td>...</td>\n",
       "    </tr>\n",
       "    <tr>\n",
       "      <th>101</th>\n",
       "      <td>21/10/2024</td>\n",
       "      <td>1.48</td>\n",
       "      <td>=</td>\n",
       "    </tr>\n",
       "    <tr>\n",
       "      <th>102</th>\n",
       "      <td>22/10/2024</td>\n",
       "      <td>1.48</td>\n",
       "      <td>=</td>\n",
       "    </tr>\n",
       "    <tr>\n",
       "      <th>103</th>\n",
       "      <td>23/10/2024</td>\n",
       "      <td>1.48</td>\n",
       "      <td>=</td>\n",
       "    </tr>\n",
       "    <tr>\n",
       "      <th>104</th>\n",
       "      <td>24/10/2024</td>\n",
       "      <td>1.48</td>\n",
       "      <td>=</td>\n",
       "    </tr>\n",
       "    <tr>\n",
       "      <th>105</th>\n",
       "      <td>25/10/2024</td>\n",
       "      <td>1.48</td>\n",
       "      <td>=</td>\n",
       "    </tr>\n",
       "  </tbody>\n",
       "</table>\n",
       "<p>106 rows × 3 columns</p>\n",
       "</div>"
      ],
      "text/plain": [
       "            Día Precio (€) Variación\n",
       "0    12/07/2024       1.45         =\n",
       "1    13/07/2024       1.45         =\n",
       "2    14/07/2024       1.45         =\n",
       "3    15/07/2024       1.45         =\n",
       "4    16/07/2024       1.45         =\n",
       "..          ...        ...       ...\n",
       "101  21/10/2024       1.48         =\n",
       "102  22/10/2024       1.48         =\n",
       "103  23/10/2024       1.48         =\n",
       "104  24/10/2024       1.48         =\n",
       "105  25/10/2024       1.48         =\n",
       "\n",
       "[106 rows x 3 columns]"
      ]
     },
     "execution_count": 22,
     "metadata": {},
     "output_type": "execute_result"
    }
   ],
   "source": [
    "df = pd.DataFrame(datos_tabla, columns= encabezados)\n",
    "df\n"
   ]
  }
 ],
 "metadata": {
  "kernelspec": {
   "display_name": "Proyecto_Supermercados",
   "language": "python",
   "name": "python3"
  },
  "language_info": {
   "codemirror_mode": {
    "name": "ipython",
    "version": 3
   },
   "file_extension": ".py",
   "mimetype": "text/x-python",
   "name": "python",
   "nbconvert_exporter": "python",
   "pygments_lexer": "ipython3",
   "version": "3.12.7"
  }
 },
 "nbformat": 4,
 "nbformat_minor": 2
}
